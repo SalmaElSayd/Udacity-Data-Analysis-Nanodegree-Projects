{
 "cells": [
  {
   "cell_type": "markdown",
   "metadata": {},
   "source": [
    "## Analyze A/B Test Results\n",
    "\n",
    "This project will assure you have mastered the subjects covered in the statistics lessons.  The hope is to have this project be as comprehensive of these topics as possible.  Good luck!\n",
    "\n",
    "## Table of Contents\n",
    "- [Introduction](#intro)\n",
    "- [Part I - Probability](#probability)\n",
    "- [Part II - A/B Test](#ab_test)\n",
    "- [Part III - Regression](#regression)\n",
    "\n",
    "\n",
    "<a id='intro'></a>\n",
    "### Introduction\n",
    "\n",
    "A/B tests are very commonly performed by data analysts and data scientists.  It is important that you get some practice working with the difficulties of these \n",
    "\n",
    "For this project, you will be working to understand the results of an A/B test run by an e-commerce website.  Your goal is to work through this notebook to help the company understand if they should implement the new page, keep the old page, or perhaps run the experiment longer to make their decision.\n",
    "\n",
    "**As you work through this notebook, follow along in the classroom and answer the corresponding quiz questions associated with each question.** The labels for each classroom concept are provided for each question.  This will assure you are on the right track as you work through the project, and you can feel more confident in your final submission meeting the criteria.  As a final check, assure you meet all the criteria on the [RUBRIC](https://review.udacity.com/#!/projects/37e27304-ad47-4eb0-a1ab-8c12f60e43d0/rubric).\n",
    "\n",
    "<a id='probability'></a>\n",
    "#### Part I - Probability\n",
    "\n",
    "To get started, let's import our libraries."
   ]
  },
  {
   "cell_type": "code",
   "execution_count": 1,
   "metadata": {},
   "outputs": [],
   "source": [
    "import pandas as pd\n",
    "import numpy as np\n",
    "import random\n",
    "import matplotlib.pyplot as plt\n",
    "%matplotlib inline\n",
    "#We are setting the seed to assure you get the same answers on quizzes as we set up\n",
    "random.seed(42)"
   ]
  },
  {
   "cell_type": "markdown",
   "metadata": {},
   "source": [
    "`1.` Now, read in the `ab_data.csv` data. Store it in `df`.  **Use your dataframe to answer the questions in Quiz 1 of the classroom.**\n",
    "\n",
    "a. Read in the dataset and take a look at the top few rows here:"
   ]
  },
  {
   "cell_type": "code",
   "execution_count": 2,
   "metadata": {},
   "outputs": [
    {
     "data": {
      "text/html": [
       "<div>\n",
       "<style scoped>\n",
       "    .dataframe tbody tr th:only-of-type {\n",
       "        vertical-align: middle;\n",
       "    }\n",
       "\n",
       "    .dataframe tbody tr th {\n",
       "        vertical-align: top;\n",
       "    }\n",
       "\n",
       "    .dataframe thead th {\n",
       "        text-align: right;\n",
       "    }\n",
       "</style>\n",
       "<table border=\"1\" class=\"dataframe\">\n",
       "  <thead>\n",
       "    <tr style=\"text-align: right;\">\n",
       "      <th></th>\n",
       "      <th>user_id</th>\n",
       "      <th>timestamp</th>\n",
       "      <th>group</th>\n",
       "      <th>landing_page</th>\n",
       "      <th>converted</th>\n",
       "    </tr>\n",
       "  </thead>\n",
       "  <tbody>\n",
       "    <tr>\n",
       "      <th>0</th>\n",
       "      <td>851104</td>\n",
       "      <td>2017-01-21 22:11:48.556739</td>\n",
       "      <td>control</td>\n",
       "      <td>old_page</td>\n",
       "      <td>0</td>\n",
       "    </tr>\n",
       "    <tr>\n",
       "      <th>1</th>\n",
       "      <td>804228</td>\n",
       "      <td>2017-01-12 08:01:45.159739</td>\n",
       "      <td>control</td>\n",
       "      <td>old_page</td>\n",
       "      <td>0</td>\n",
       "    </tr>\n",
       "    <tr>\n",
       "      <th>2</th>\n",
       "      <td>661590</td>\n",
       "      <td>2017-01-11 16:55:06.154213</td>\n",
       "      <td>treatment</td>\n",
       "      <td>new_page</td>\n",
       "      <td>0</td>\n",
       "    </tr>\n",
       "    <tr>\n",
       "      <th>3</th>\n",
       "      <td>853541</td>\n",
       "      <td>2017-01-08 18:28:03.143765</td>\n",
       "      <td>treatment</td>\n",
       "      <td>new_page</td>\n",
       "      <td>0</td>\n",
       "    </tr>\n",
       "    <tr>\n",
       "      <th>4</th>\n",
       "      <td>864975</td>\n",
       "      <td>2017-01-21 01:52:26.210827</td>\n",
       "      <td>control</td>\n",
       "      <td>old_page</td>\n",
       "      <td>1</td>\n",
       "    </tr>\n",
       "  </tbody>\n",
       "</table>\n",
       "</div>"
      ],
      "text/plain": [
       "   user_id                   timestamp      group landing_page  converted\n",
       "0   851104  2017-01-21 22:11:48.556739    control     old_page          0\n",
       "1   804228  2017-01-12 08:01:45.159739    control     old_page          0\n",
       "2   661590  2017-01-11 16:55:06.154213  treatment     new_page          0\n",
       "3   853541  2017-01-08 18:28:03.143765  treatment     new_page          0\n",
       "4   864975  2017-01-21 01:52:26.210827    control     old_page          1"
      ]
     },
     "execution_count": 2,
     "metadata": {},
     "output_type": "execute_result"
    }
   ],
   "source": [
    "df=pd.read_csv('ab_data.csv')\n",
    "df.head()"
   ]
  },
  {
   "cell_type": "markdown",
   "metadata": {},
   "source": [
    "b. Use the below cell to find the number of rows in the dataset."
   ]
  },
  {
   "cell_type": "code",
   "execution_count": 3,
   "metadata": {},
   "outputs": [
    {
     "data": {
      "text/plain": [
       "294478"
      ]
     },
     "execution_count": 3,
     "metadata": {},
     "output_type": "execute_result"
    }
   ],
   "source": [
    "df.shape[0]"
   ]
  },
  {
   "cell_type": "markdown",
   "metadata": {},
   "source": [
    "c. The number of unique users in the dataset."
   ]
  },
  {
   "cell_type": "code",
   "execution_count": 4,
   "metadata": {},
   "outputs": [
    {
     "data": {
      "text/plain": [
       "290584"
      ]
     },
     "execution_count": 4,
     "metadata": {},
     "output_type": "execute_result"
    }
   ],
   "source": [
    "df['user_id'].nunique()"
   ]
  },
  {
   "cell_type": "markdown",
   "metadata": {
    "collapsed": true
   },
   "source": [
    "d. The proportion of users converted."
   ]
  },
  {
   "cell_type": "code",
   "execution_count": 5,
   "metadata": {},
   "outputs": [
    {
     "data": {
      "text/plain": [
       "0.11965919355605512"
      ]
     },
     "execution_count": 5,
     "metadata": {},
     "output_type": "execute_result"
    }
   ],
   "source": [
    "(df['converted']==1).sum()/df.shape[0]"
   ]
  },
  {
   "cell_type": "markdown",
   "metadata": {
    "collapsed": true
   },
   "source": [
    "e. The number of times the `new_page` and `treatment` don't line up."
   ]
  },
  {
   "cell_type": "code",
   "execution_count": 6,
   "metadata": {},
   "outputs": [
    {
     "data": {
      "text/plain": [
       "group      landing_page\n",
       "control    new_page          1928\n",
       "           old_page        145274\n",
       "treatment  new_page        145311\n",
       "           old_page          1965\n",
       "dtype: int64"
      ]
     },
     "execution_count": 6,
     "metadata": {},
     "output_type": "execute_result"
    }
   ],
   "source": [
    "df.groupby(['group', 'landing_page']).size()"
   ]
  },
  {
   "cell_type": "code",
   "execution_count": 7,
   "metadata": {},
   "outputs": [
    {
     "data": {
      "text/plain": [
       "1965"
      ]
     },
     "execution_count": 7,
     "metadata": {},
     "output_type": "execute_result"
    }
   ],
   "source": [
    "((df['group']=='treatment') & (df['landing_page']!='new_page')).sum()"
   ]
  },
  {
   "cell_type": "markdown",
   "metadata": {},
   "source": [
    "f. Do any of the rows have missing values?"
   ]
  },
  {
   "cell_type": "code",
   "execution_count": 8,
   "metadata": {},
   "outputs": [
    {
     "name": "stdout",
     "output_type": "stream",
     "text": [
      "<class 'pandas.core.frame.DataFrame'>\n",
      "RangeIndex: 294478 entries, 0 to 294477\n",
      "Data columns (total 5 columns):\n",
      " #   Column        Non-Null Count   Dtype \n",
      "---  ------        --------------   ----- \n",
      " 0   user_id       294478 non-null  int64 \n",
      " 1   timestamp     294478 non-null  object\n",
      " 2   group         294478 non-null  object\n",
      " 3   landing_page  294478 non-null  object\n",
      " 4   converted     294478 non-null  int64 \n",
      "dtypes: int64(2), object(3)\n",
      "memory usage: 11.2+ MB\n"
     ]
    }
   ],
   "source": [
    "df.info()"
   ]
  },
  {
   "cell_type": "markdown",
   "metadata": {},
   "source": [
    "`2.` For the rows where **treatment** is not aligned with **new_page** or **control** is not aligned with **old_page**, we cannot be sure if this row truly received the new or old page.  Use **Quiz 2** in the classroom to provide how we should handle these rows.  \n",
    "\n",
    "a. Now use the answer to the quiz to create a new dataset that meets the specifications from the quiz.  Store your new dataframe in **df2**."
   ]
  },
  {
   "cell_type": "code",
   "execution_count": 9,
   "metadata": {},
   "outputs": [
    {
     "data": {
      "text/html": [
       "<div>\n",
       "<style scoped>\n",
       "    .dataframe tbody tr th:only-of-type {\n",
       "        vertical-align: middle;\n",
       "    }\n",
       "\n",
       "    .dataframe tbody tr th {\n",
       "        vertical-align: top;\n",
       "    }\n",
       "\n",
       "    .dataframe thead th {\n",
       "        text-align: right;\n",
       "    }\n",
       "</style>\n",
       "<table border=\"1\" class=\"dataframe\">\n",
       "  <thead>\n",
       "    <tr style=\"text-align: right;\">\n",
       "      <th></th>\n",
       "      <th>user_id</th>\n",
       "      <th>timestamp</th>\n",
       "      <th>group</th>\n",
       "      <th>landing_page</th>\n",
       "      <th>converted</th>\n",
       "    </tr>\n",
       "  </thead>\n",
       "  <tbody>\n",
       "    <tr>\n",
       "      <th>0</th>\n",
       "      <td>851104</td>\n",
       "      <td>2017-01-21 22:11:48.556739</td>\n",
       "      <td>control</td>\n",
       "      <td>old_page</td>\n",
       "      <td>0</td>\n",
       "    </tr>\n",
       "    <tr>\n",
       "      <th>1</th>\n",
       "      <td>804228</td>\n",
       "      <td>2017-01-12 08:01:45.159739</td>\n",
       "      <td>control</td>\n",
       "      <td>old_page</td>\n",
       "      <td>0</td>\n",
       "    </tr>\n",
       "    <tr>\n",
       "      <th>2</th>\n",
       "      <td>661590</td>\n",
       "      <td>2017-01-11 16:55:06.154213</td>\n",
       "      <td>treatment</td>\n",
       "      <td>new_page</td>\n",
       "      <td>0</td>\n",
       "    </tr>\n",
       "    <tr>\n",
       "      <th>3</th>\n",
       "      <td>853541</td>\n",
       "      <td>2017-01-08 18:28:03.143765</td>\n",
       "      <td>treatment</td>\n",
       "      <td>new_page</td>\n",
       "      <td>0</td>\n",
       "    </tr>\n",
       "    <tr>\n",
       "      <th>4</th>\n",
       "      <td>864975</td>\n",
       "      <td>2017-01-21 01:52:26.210827</td>\n",
       "      <td>control</td>\n",
       "      <td>old_page</td>\n",
       "      <td>1</td>\n",
       "    </tr>\n",
       "  </tbody>\n",
       "</table>\n",
       "</div>"
      ],
      "text/plain": [
       "   user_id                   timestamp      group landing_page  converted\n",
       "0   851104  2017-01-21 22:11:48.556739    control     old_page          0\n",
       "1   804228  2017-01-12 08:01:45.159739    control     old_page          0\n",
       "2   661590  2017-01-11 16:55:06.154213  treatment     new_page          0\n",
       "3   853541  2017-01-08 18:28:03.143765  treatment     new_page          0\n",
       "4   864975  2017-01-21 01:52:26.210827    control     old_page          1"
      ]
     },
     "execution_count": 9,
     "metadata": {},
     "output_type": "execute_result"
    }
   ],
   "source": [
    "df2=df[((df['group']=='control')&(df['landing_page']=='old_page'))|((df['group']=='treatment')&(df['landing_page']=='new_page'))]\n",
    "df2.head()"
   ]
  },
  {
   "cell_type": "code",
   "execution_count": 10,
   "metadata": {},
   "outputs": [
    {
     "data": {
      "text/plain": [
       "0"
      ]
     },
     "execution_count": 10,
     "metadata": {},
     "output_type": "execute_result"
    }
   ],
   "source": [
    "# Double Check all of the correct rows were removed - this should be 0\n",
    "df2[((df2['group'] == 'treatment') == (df2['landing_page'] == 'new_page')) == False].shape[0]"
   ]
  },
  {
   "cell_type": "markdown",
   "metadata": {},
   "source": [
    "`3.` Use **df2** and the cells below to answer questions for **Quiz3** in the classroom."
   ]
  },
  {
   "cell_type": "markdown",
   "metadata": {},
   "source": [
    "a. How many unique **user_id**s are in **df2**?"
   ]
  },
  {
   "cell_type": "code",
   "execution_count": 11,
   "metadata": {},
   "outputs": [
    {
     "data": {
      "text/plain": [
       "290584"
      ]
     },
     "execution_count": 11,
     "metadata": {},
     "output_type": "execute_result"
    }
   ],
   "source": [
    "df2['user_id'].nunique()"
   ]
  },
  {
   "cell_type": "markdown",
   "metadata": {
    "collapsed": true
   },
   "source": [
    "b. There is one **user_id** repeated in **df2**.  What is it?"
   ]
  },
  {
   "cell_type": "code",
   "execution_count": 12,
   "metadata": {},
   "outputs": [
    {
     "data": {
      "text/html": [
       "<div>\n",
       "<style scoped>\n",
       "    .dataframe tbody tr th:only-of-type {\n",
       "        vertical-align: middle;\n",
       "    }\n",
       "\n",
       "    .dataframe tbody tr th {\n",
       "        vertical-align: top;\n",
       "    }\n",
       "\n",
       "    .dataframe thead th {\n",
       "        text-align: right;\n",
       "    }\n",
       "</style>\n",
       "<table border=\"1\" class=\"dataframe\">\n",
       "  <thead>\n",
       "    <tr style=\"text-align: right;\">\n",
       "      <th></th>\n",
       "      <th>user_id</th>\n",
       "      <th>timestamp</th>\n",
       "      <th>group</th>\n",
       "      <th>landing_page</th>\n",
       "      <th>converted</th>\n",
       "    </tr>\n",
       "  </thead>\n",
       "  <tbody>\n",
       "    <tr>\n",
       "      <th>2893</th>\n",
       "      <td>773192</td>\n",
       "      <td>2017-01-14 02:55:59.590927</td>\n",
       "      <td>treatment</td>\n",
       "      <td>new_page</td>\n",
       "      <td>0</td>\n",
       "    </tr>\n",
       "  </tbody>\n",
       "</table>\n",
       "</div>"
      ],
      "text/plain": [
       "      user_id                   timestamp      group landing_page  converted\n",
       "2893   773192  2017-01-14 02:55:59.590927  treatment     new_page          0"
      ]
     },
     "execution_count": 12,
     "metadata": {},
     "output_type": "execute_result"
    }
   ],
   "source": [
    "df2[df2['user_id'].duplicated()==True]"
   ]
  },
  {
   "cell_type": "markdown",
   "metadata": {},
   "source": [
    "c. What is the row information for the repeat **user_id**? "
   ]
  },
  {
   "cell_type": "code",
   "execution_count": 13,
   "metadata": {},
   "outputs": [
    {
     "data": {
      "text/html": [
       "<div>\n",
       "<style scoped>\n",
       "    .dataframe tbody tr th:only-of-type {\n",
       "        vertical-align: middle;\n",
       "    }\n",
       "\n",
       "    .dataframe tbody tr th {\n",
       "        vertical-align: top;\n",
       "    }\n",
       "\n",
       "    .dataframe thead th {\n",
       "        text-align: right;\n",
       "    }\n",
       "</style>\n",
       "<table border=\"1\" class=\"dataframe\">\n",
       "  <thead>\n",
       "    <tr style=\"text-align: right;\">\n",
       "      <th></th>\n",
       "      <th>user_id</th>\n",
       "      <th>timestamp</th>\n",
       "      <th>group</th>\n",
       "      <th>landing_page</th>\n",
       "      <th>converted</th>\n",
       "    </tr>\n",
       "  </thead>\n",
       "  <tbody>\n",
       "    <tr>\n",
       "      <th>1899</th>\n",
       "      <td>773192</td>\n",
       "      <td>2017-01-09 05:37:58.781806</td>\n",
       "      <td>treatment</td>\n",
       "      <td>new_page</td>\n",
       "      <td>0</td>\n",
       "    </tr>\n",
       "    <tr>\n",
       "      <th>2893</th>\n",
       "      <td>773192</td>\n",
       "      <td>2017-01-14 02:55:59.590927</td>\n",
       "      <td>treatment</td>\n",
       "      <td>new_page</td>\n",
       "      <td>0</td>\n",
       "    </tr>\n",
       "  </tbody>\n",
       "</table>\n",
       "</div>"
      ],
      "text/plain": [
       "      user_id                   timestamp      group landing_page  converted\n",
       "1899   773192  2017-01-09 05:37:58.781806  treatment     new_page          0\n",
       "2893   773192  2017-01-14 02:55:59.590927  treatment     new_page          0"
      ]
     },
     "execution_count": 13,
     "metadata": {},
     "output_type": "execute_result"
    }
   ],
   "source": [
    "df2[df2['user_id']==773192]"
   ]
  },
  {
   "cell_type": "markdown",
   "metadata": {},
   "source": [
    "d. Remove **one** of the rows with a duplicate **user_id**, but keep your dataframe as **df2**."
   ]
  },
  {
   "cell_type": "code",
   "execution_count": 14,
   "metadata": {},
   "outputs": [],
   "source": [
    "df2=df2.drop_duplicates(subset=['user_id'])"
   ]
  },
  {
   "cell_type": "markdown",
   "metadata": {},
   "source": [
    "`4.` Use **df2** in the below cells to answer the quiz questions related to **Quiz 4** in the classroom.\n",
    "\n",
    "a. What is the probability of an individual converting regardless of the page they receive?"
   ]
  },
  {
   "cell_type": "code",
   "execution_count": 15,
   "metadata": {},
   "outputs": [
    {
     "data": {
      "text/plain": [
       "0.11959708724499628"
      ]
     },
     "execution_count": 15,
     "metadata": {},
     "output_type": "execute_result"
    }
   ],
   "source": [
    "df2[df2['converted']==1].shape[0]/df2.shape[0]"
   ]
  },
  {
   "cell_type": "markdown",
   "metadata": {},
   "source": [
    "b. Given that an individual was in the `control` group, what is the probability they converted?"
   ]
  },
  {
   "cell_type": "code",
   "execution_count": 16,
   "metadata": {},
   "outputs": [
    {
     "data": {
      "text/plain": [
       "0.1203863045004612"
      ]
     },
     "execution_count": 16,
     "metadata": {},
     "output_type": "execute_result"
    }
   ],
   "source": [
    "df2[(df2['group']=='control') & (df2['converted']==1)].shape[0]/df2[(df2['group']=='control')].shape[0]"
   ]
  },
  {
   "cell_type": "markdown",
   "metadata": {},
   "source": [
    "c. Given that an individual was in the `treatment` group, what is the probability they converted?"
   ]
  },
  {
   "cell_type": "code",
   "execution_count": 17,
   "metadata": {},
   "outputs": [
    {
     "data": {
      "text/plain": [
       "0.11880806551510564"
      ]
     },
     "execution_count": 17,
     "metadata": {},
     "output_type": "execute_result"
    }
   ],
   "source": [
    "df2[(df2['group']=='treatment') & (df2['converted']==1)].shape[0]/df2[(df2['group']=='treatment')].shape[0]"
   ]
  },
  {
   "cell_type": "markdown",
   "metadata": {},
   "source": [
    "d. What is the probability that an individual received the new page?"
   ]
  },
  {
   "cell_type": "code",
   "execution_count": 18,
   "metadata": {},
   "outputs": [
    {
     "data": {
      "text/plain": [
       "0.5000619442226688"
      ]
     },
     "execution_count": 18,
     "metadata": {},
     "output_type": "execute_result"
    }
   ],
   "source": [
    "df2[df2['landing_page']=='new_page'].shape[0]/df2.shape[0]"
   ]
  },
  {
   "cell_type": "markdown",
   "metadata": {},
   "source": [
    "e. Consider your results from a. through d. above, and explain below whether you think there is sufficient evidence to say that the new treatment page leads to more conversions."
   ]
  },
  {
   "cell_type": "markdown",
   "metadata": {},
   "source": [
    "an almost equal number of participants took either page. However, there was a slightly higher conversion rate for those who took the new page (0.12 compared to 0.119) which might suggest a change but it should be investigated to determine whether it is significant or not."
   ]
  },
  {
   "cell_type": "markdown",
   "metadata": {},
   "source": [
    "<a id='ab_test'></a>\n",
    "### Part II - A/B Test\n",
    "\n",
    "Notice that because of the time stamp associated with each event, you could technically run a hypothesis test continuously as each observation was observed.  \n",
    "\n",
    "However, then the hard question is do you stop as soon as one page is considered significantly better than another or does it need to happen consistently for a certain amount of time?  How long do you run to render a decision that neither page is better than another?  \n",
    "\n",
    "These questions are the difficult parts associated with A/B tests in general.  \n",
    "\n",
    "\n",
    "`1.` For now, consider you need to make the decision just based on all the data provided.  If you want to assume that the old page is better unless the new page proves to be definitely better at a Type I error rate of 5%, what should your null and alternative hypotheses be?  You can state your hypothesis in terms of words or in terms of **$p_{old}$** and **$p_{new}$**, which are the converted rates for the old and new pages."
   ]
  },
  {
   "cell_type": "markdown",
   "metadata": {},
   "source": [
    "$$ H_0 : p_{new} - p_{old} <= 0 $$\n",
    "$$ H_1 : p_{new} - p_{old} > 0 $$"
   ]
  },
  {
   "cell_type": "markdown",
   "metadata": {},
   "source": [
    "`2.` Assume under the null hypothesis, $p_{new}$ and $p_{old}$ both have \"true\" success rates equal to the **converted** success rate regardless of page - that is $p_{new}$ and $p_{old}$ are equal. Furthermore, assume they are equal to the **converted** rate in **ab_data.csv** regardless of the page. <br><br>\n",
    "\n",
    "Use a sample size for each page equal to the ones in **ab_data.csv**.  <br><br>\n",
    "\n",
    "Perform the sampling distribution for the difference in **converted** between the two pages over 10,000 iterations of calculating an estimate from the null.  <br><br>\n",
    "\n",
    "Use the cells below to provide the necessary parts of this simulation.  If this doesn't make complete sense right now, don't worry - you are going to work through the problems below to complete this problem.  You can use **Quiz 5** in the classroom to make sure you are on the right track.<br><br>"
   ]
  },
  {
   "cell_type": "markdown",
   "metadata": {},
   "source": [
    "a. What is the **convert rate** for $p_{new}$ under the null? "
   ]
  },
  {
   "cell_type": "code",
   "execution_count": 19,
   "metadata": {},
   "outputs": [
    {
     "data": {
      "text/plain": [
       "0.11959708724499628"
      ]
     },
     "execution_count": 19,
     "metadata": {},
     "output_type": "execute_result"
    }
   ],
   "source": [
    "null_p_new = df2[df2['converted']==1].shape[0]/df2.shape[0]\n",
    "null_p_new"
   ]
  },
  {
   "cell_type": "markdown",
   "metadata": {},
   "source": [
    "b. What is the **convert rate** for $p_{old}$ under the null? <br><br>"
   ]
  },
  {
   "cell_type": "code",
   "execution_count": 20,
   "metadata": {},
   "outputs": [
    {
     "data": {
      "text/plain": [
       "0.11959708724499628"
      ]
     },
     "execution_count": 20,
     "metadata": {},
     "output_type": "execute_result"
    }
   ],
   "source": [
    "null_p_old = df2[df2['converted']==1].shape[0]/df2.shape[0]\n",
    "null_p_old"
   ]
  },
  {
   "cell_type": "markdown",
   "metadata": {},
   "source": [
    "c. What is $n_{new}$?"
   ]
  },
  {
   "cell_type": "code",
   "execution_count": 21,
   "metadata": {},
   "outputs": [
    {
     "data": {
      "text/plain": [
       "145310"
      ]
     },
     "execution_count": 21,
     "metadata": {},
     "output_type": "execute_result"
    }
   ],
   "source": [
    "n_new = df2[df2['group']=='treatment'].shape[0]\n",
    "n_new"
   ]
  },
  {
   "cell_type": "markdown",
   "metadata": {},
   "source": [
    "d. What is $n_{old}$?"
   ]
  },
  {
   "cell_type": "code",
   "execution_count": 22,
   "metadata": {},
   "outputs": [
    {
     "data": {
      "text/plain": [
       "145274"
      ]
     },
     "execution_count": 22,
     "metadata": {},
     "output_type": "execute_result"
    }
   ],
   "source": [
    "n_old = df2[df2['group']=='control'].shape[0]\n",
    "n_old"
   ]
  },
  {
   "cell_type": "markdown",
   "metadata": {},
   "source": [
    "e. Simulate $n_{new}$ transactions with a convert rate of $p_{new}$ under the null.  Store these $n_{new}$ 1's and 0's in **new_page_converted**."
   ]
  },
  {
   "cell_type": "code",
   "execution_count": 23,
   "metadata": {},
   "outputs": [
    {
     "data": {
      "text/plain": [
       "array([0, 0, 0, ..., 0, 0, 0])"
      ]
     },
     "execution_count": 23,
     "metadata": {},
     "output_type": "execute_result"
    }
   ],
   "source": [
    "new_page_converted=np.random.binomial(n=1, p=0.1196, size=n_new)  \n",
    "new_page_converted"
   ]
  },
  {
   "cell_type": "markdown",
   "metadata": {},
   "source": [
    "f. Simulate $n_{old}$ transactions with a convert rate of $p_{old}$ under the null.  Store these $n_{old}$ 1's and 0's in **old_page_converted**."
   ]
  },
  {
   "cell_type": "code",
   "execution_count": 24,
   "metadata": {},
   "outputs": [
    {
     "data": {
      "text/plain": [
       "array([0, 0, 0, ..., 0, 0, 1])"
      ]
     },
     "execution_count": 24,
     "metadata": {},
     "output_type": "execute_result"
    }
   ],
   "source": [
    "old_page_converted=np.random.binomial(n=1, p=0.1196, size=n_old)  \n",
    "old_page_converted  "
   ]
  },
  {
   "cell_type": "markdown",
   "metadata": {},
   "source": [
    "g. Find $p_{new}$ - $p_{old}$ for your simulated values from part (e) and (f)."
   ]
  },
  {
   "cell_type": "code",
   "execution_count": 25,
   "metadata": {},
   "outputs": [
    {
     "data": {
      "text/plain": [
       "-0.0013996181427873289"
      ]
     },
     "execution_count": 25,
     "metadata": {},
     "output_type": "execute_result"
    }
   ],
   "source": [
    "(new_page_converted.sum()/len(new_page_converted))-(old_page_converted.sum()/len(old_page_converted))"
   ]
  },
  {
   "cell_type": "markdown",
   "metadata": {},
   "source": [
    "h. Simulate 10,000 $p_{new}$ - $p_{old}$ values using this same process similarly to the one you calculated in parts **a. through g.** above.  Store all 10,000 values in a numpy array called **p_diffs**."
   ]
  },
  {
   "cell_type": "code",
   "execution_count": 26,
   "metadata": {},
   "outputs": [
    {
     "data": {
      "text/plain": [
       "[-0.03923262772204354,\n",
       " 0.012554049926861807,\n",
       " 0.03257302921168469,\n",
       " 0.013040208643338297,\n",
       " -0.006410256410256415,\n",
       " -0.007431609968607852,\n",
       " 0.009457361860107857,\n",
       " -0.009669569672131145,\n",
       " 0.009076913208031306,\n",
       " -0.024242424242424246,\n",
       " -0.028633795582948124,\n",
       " -0.029291716686674685,\n",
       " -0.0045582948125321016,\n",
       " 0.022969187675070044,\n",
       " 0.05408346134152586,\n",
       " 0.010240655401945742,\n",
       " -0.012547212086294099,\n",
       " -0.05966327379809232,\n",
       " -0.05658263305322128,\n",
       " -0.017112712300566144,\n",
       " -0.0028282828282828187,\n",
       " 0.03385816692268305,\n",
       " 0.037134853941576645,\n",
       " -0.0018570696721311453,\n",
       " 0.03236714975845412,\n",
       " 0.04908878542056673,\n",
       " -0.009028146574614981,\n",
       " -0.009461799987170436,\n",
       " 0.0019201228878648335,\n",
       " -0.014272913466461867,\n",
       " -0.003525641025641027,\n",
       " -0.01295415605834975,\n",
       " -0.02185713599461979,\n",
       " -0.023448010763021318,\n",
       " -0.0034568849625504078,\n",
       " -0.02240626605033383,\n",
       " -0.02650928792569658,\n",
       " -0.004097048844504209,\n",
       " -0.07835587428406411,\n",
       " 0.018130565699276055,\n",
       " 0.01624505358945194,\n",
       " 0.01624505358945194,\n",
       " 0.0012198253723677416,\n",
       " 0.023132785071899198,\n",
       " -0.014400921658986168,\n",
       " -0.010897435897435886,\n",
       " 0.041064198958935816,\n",
       " -0.009477459016393436,\n",
       " 0.03001792114695341,\n",
       " -0.04504072065153043,\n",
       " 0.0010886270491803213,\n",
       " 0.026979885103454893,\n",
       " -0.015523974137379173,\n",
       " 0.002241290983606564,\n",
       " -0.0021186440677966045,\n",
       " -0.010724289715886376,\n",
       " 0.015668306124737658,\n",
       " 0.010845325760857366,\n",
       " 0.05046106557377049,\n",
       " -0.016373219692721763,\n",
       " -0.0630268968285829,\n",
       " -0.00738659173022882,\n",
       " -0.024768396294340717,\n",
       " 0.004450464396284826,\n",
       " -0.0010560168962703564,\n",
       " 0.06592421915002561,\n",
       " -0.026569737519300057,\n",
       " 0.02931622153590116,\n",
       " -0.04569892473118278,\n",
       " -0.003041216486594639,\n",
       " 0.01624505358945194,\n",
       " 0.02064825930372148,\n",
       " -0.023507385063449127,\n",
       " 0.006914697341611709,\n",
       " 0.03996470818900724,\n",
       " 0.005696820342129261,\n",
       " -0.02396053558844255,\n",
       " -0.026215420267464873,\n",
       " 0.006914697341611709,\n",
       " 0.037159941647028655,\n",
       " 0.017061885482938105,\n",
       " 0.02809276699340124,\n",
       " 0.02099737532808399,\n",
       " -0.02967045290696743,\n",
       " -0.02822089819975654,\n",
       " -0.013104209667354677,\n",
       " -0.03317230273752014,\n",
       " -0.004324428214491638,\n",
       " 0.012976207619321903,\n",
       " 0.029028180057928343,\n",
       " 0.018154360259623428,\n",
       " 0.011056176898830386,\n",
       " -0.006619111882269768,\n",
       " -0.008711556047552596,\n",
       " 0.02685305279339001,\n",
       " -0.02956989247311828,\n",
       " 0.030911280610196712,\n",
       " -0.025521075313606423,\n",
       " -0.0062529134718940504,\n",
       " 0.04099265588249411,\n",
       " 0.018442622950819665,\n",
       " 0.05386492039034413,\n",
       " -0.05579028231227193,\n",
       " 0.025870901639344274,\n",
       " 0.009714973906061825,\n",
       " -0.004392503887526239,\n",
       " -0.04479915127549791,\n",
       " -0.016298675230830978,\n",
       " -0.022435897435897426,\n",
       " -0.024848105933086465,\n",
       " 0.022134665897879408,\n",
       " -0.014743589743589747,\n",
       " 0.0442993406312016,\n",
       " -0.050599286297226806,\n",
       " 0.031072497159954554,\n",
       " -0.009694401643554174,\n",
       " -0.0040000000000000036,\n",
       " -0.040118679050567596,\n",
       " -0.012696580580002892,\n",
       " -0.041802806073419185,\n",
       " -0.012419179309903328,\n",
       " 0.0019363896015878457,\n",
       " -0.0706585668476772,\n",
       " -0.029825908858166925,\n",
       " -0.03713785728174218,\n",
       " 0.03464395491803279,\n",
       " -0.008189482135688486,\n",
       " -0.00633965163934426,\n",
       " 0.009834592738765621,\n",
       " 0.007371794871794873,\n",
       " -0.017289959016393436,\n",
       " -0.04921968787515006,\n",
       " -0.01338165597992752,\n",
       " 0.04279798256497849,\n",
       " -0.06066426570628253,\n",
       " 0.05504088065409048,\n",
       " -0.009227959435428312,\n",
       " -0.045414539693715894,\n",
       " -0.015279917822290712,\n",
       " -0.006832983949688745,\n",
       " -0.02302737520128824,\n",
       " 0.014671023127682745,\n",
       " 0.016208597603946426,\n",
       " 0.04516886081239653,\n",
       " -0.036000000000000004,\n",
       " -0.05649446258242111,\n",
       " 0.03526907874733963,\n",
       " -0.04927986670725261,\n",
       " 0.02188940092165899,\n",
       " 0.05829481253210067,\n",
       " 0.015908072466551446,\n",
       " 0.007537366091474762,\n",
       " 0.003072442431710176,\n",
       " -0.04168801229508197,\n",
       " 0.009076913208031306,\n",
       " -0.00035209013507458975,\n",
       " -0.04494093477144326,\n",
       " 0.028838571589500955,\n",
       " -0.014085634253701462,\n",
       " -0.028791740810208563,\n",
       " 0.027999999999999983,\n",
       " 0.011999999999999997,\n",
       " -0.04817233211702196,\n",
       " 0.01251383741637388,\n",
       " 0.02206529919456854,\n",
       " -0.04000000000000001,\n",
       " -0.04464745239320639,\n",
       " -0.019865841073271412,\n",
       " -0.03209686719200461,\n",
       " 0.06845671990900207,\n",
       " 0.03133025166923473,\n",
       " -0.018862788426126084,\n",
       " -0.013968683113664532,\n",
       " 0.024678317649318215,\n",
       " -0.013267876337616918,\n",
       " 0.028564076170869798,\n",
       " -0.0060163850486431025,\n",
       " -0.0010891152540201121,\n",
       " 0.015126050420168083,\n",
       " 0.051544410818081365,\n",
       " 0.010438012295081955,\n",
       " -0.005185327443825619,\n",
       " -0.028714610290207707,\n",
       " -0.045539693818228796,\n",
       " -0.03997693638285603,\n",
       " 0.04772421739965431,\n",
       " 0.004161664665866344,\n",
       " 0.009669569672131145,\n",
       " 0.017537122375832062,\n",
       " -0.027525580054762924,\n",
       " 0.006400409626216075,\n",
       " -0.03411418330773171,\n",
       " -0.032,\n",
       " 0.0030880494087905386,\n",
       " -0.012182365342216644,\n",
       " 0.00591868244981987,\n",
       " 0.012460759818053682,\n",
       " -0.016604899648649946,\n",
       " -0.004976079617273865,\n",
       " 0.03681472589035614,\n",
       " -0.02162214107245819,\n",
       " 0.0006084770460040578,\n",
       " -0.004816077057232915,\n",
       " -0.0032012805122048765,\n",
       " 0.053014286629508606,\n",
       " 0.025921658986175114,\n",
       " -0.02714873906330416,\n",
       " 0.016882431070074103,\n",
       " 0.033890704080978926,\n",
       " -0.0239101209909737,\n",
       " -0.03578516100121633,\n",
       " -0.01747311827956989,\n",
       " -0.0007841129122593549,\n",
       " -0.006928997775679693,\n",
       " 0.035396527677583806,\n",
       " 0.006449439283823452,\n",
       " 0.03660576428203807,\n",
       " -0.05483989694516009,\n",
       " 0.05442614513638702,\n",
       " 0.018882719111552065,\n",
       " -0.05300884814157028,\n",
       " -0.018002434492920744,\n",
       " -0.019248307972927578,\n",
       " 0.04729891956782713,\n",
       " 0.0013453776667307349,\n",
       " -0.017948717948717954,\n",
       " 0.01422643746295199,\n",
       " 0.02809829575628832,\n",
       " -0.027986633249791143,\n",
       " -0.035844704977897365,\n",
       " 0.021219055543998333,\n",
       " -0.049667178699436765,\n",
       " 0.004487179487179499,\n",
       " 0.049318665834013856,\n",
       " 0.051149094168107034,\n",
       " -0.009814612868047995,\n",
       " -0.03512240600536881,\n",
       " 0.0071392724741383695,\n",
       " -0.0031520504328069326,\n",
       " 0.03330611199180156,\n",
       " 0.017479596426964866,\n",
       " -0.050567595459236336,\n",
       " -0.003072442431710176,\n",
       " -0.004417130785481088,\n",
       " 0.013952892985151039,\n",
       " 0.005620406398616523,\n",
       " -0.024864397830365287,\n",
       " -0.007521925612956906,\n",
       " 0.05234239444765762,\n",
       " 0.005159958720330232,\n",
       " -0.01766358892011241,\n",
       " 0.02128619539470504,\n",
       " 0.05283960890368214,\n",
       " -0.010881566945640159,\n",
       " -0.022866739874685085,\n",
       " -0.003112415972790411,\n",
       " -0.007081177205658526,\n",
       " 0.03599999999999999,\n",
       " -0.009545811875310839,\n",
       " 0.002564965773737951,\n",
       " -0.019709809964047253,\n",
       " -0.04570723657860587,\n",
       " 0.02809644176550652,\n",
       " 0.022156762295081955,\n",
       " -0.045732689210950084,\n",
       " -0.016992271876350037,\n",
       " 0.025248881835233022,\n",
       " -0.0023734684713580118,\n",
       " 0.042264344262295084,\n",
       " 0.003970358939737351,\n",
       " 0.01794904786412764,\n",
       " 0.0037769669035273012,\n",
       " -0.051220449740534316,\n",
       " 0.006662822730476012,\n",
       " 0.05202080832332932,\n",
       " 0.0036578909370938995,\n",
       " -0.04408256072761045,\n",
       " 0.021451906210270516,\n",
       " 0.006410256410256415,\n",
       " -0.04702003712950516,\n",
       " 0.025267638539949747,\n",
       " 0.018002853524423282,\n",
       " 0.0023112480739599373,\n",
       " -0.00968387354941977,\n",
       " 0.00971962018222286,\n",
       " -0.0359666127300982,\n",
       " -0.016187771734770817,\n",
       " -0.010381454364856851,\n",
       " 0.03181402512393512,\n",
       " 0.042072866143508594,\n",
       " -0.017857142857142863,\n",
       " -0.02733499775942641,\n",
       " -0.011152178434854956,\n",
       " -0.011714999039754176,\n",
       " -0.011650982651558783,\n",
       " -0.021656810454567424,\n",
       " -0.023678687579102506,\n",
       " 0.009861680327868855,\n",
       " -0.04865419452059186,\n",
       " -0.04243326768186258,\n",
       " -0.039999999999999994,\n",
       " -0.04888205522454993,\n",
       " -0.027999999999999997,\n",
       " 0.002721088435374136,\n",
       " -0.048753924018194617,\n",
       " 0.004912078593257499,\n",
       " 0.02467948717948719,\n",
       " 0.012343897786113917,\n",
       " -0.007805082154524551,\n",
       " -0.03168906903346737,\n",
       " 0.022931302107503493,\n",
       " -0.026018371567354412,\n",
       " -0.01936774709883954,\n",
       " -0.011513026212550653,\n",
       " -0.013952892985151039,\n",
       " 0.012099097368926448,\n",
       " -0.023970181864918727,\n",
       " -0.02104033664538632,\n",
       " 0.007062146892655358,\n",
       " 0.01280512204881952,\n",
       " 0.0058285695985652725,\n",
       " -0.005632360471070158,\n",
       " 0.03854595555840369,\n",
       " 0.005120737386183613,\n",
       " 0.038590901044432635,\n",
       " -0.014048367438578485,\n",
       " 0.042790161783296796,\n",
       " -0.03725414824780575,\n",
       " 0.0250500200080032,\n",
       " -0.030209933435739883,\n",
       " 0.01411325971291251,\n",
       " -0.036613492216029206,\n",
       " -0.03579447045993969,\n",
       " 0.014796706124549669,\n",
       " 0.010822233606557374,\n",
       " 0.023591937261002005,\n",
       " -0.0035525115616648895,\n",
       " -0.025294569672131145,\n",
       " 0.015008240131842099,\n",
       " 0.033491290983606564,\n",
       " 0.0008320133122129841,\n",
       " 0.0198450803405672,\n",
       " 0.008012820512820512,\n",
       " -0.02099347587365158,\n",
       " 0.022809123649459778,\n",
       " 0.04134565998972779,\n",
       " 0.0002242906807222167,\n",
       " -0.017793138760880706,\n",
       " 0.03827444956477215,\n",
       " -0.05947122463350618,\n",
       " -0.00951145698227411,\n",
       " -0.024409763905562223,\n",
       " 0.01774655550399258,\n",
       " 0.023993296701525973,\n",
       " -0.05314125650260104,\n",
       " 0.01689627034032544,\n",
       " -0.010240655401945742,\n",
       " -0.04305722288915567,\n",
       " -0.0040000000000000036,\n",
       " 0.015972088854746824,\n",
       " 0.07479455572675912,\n",
       " 0.024391821946169776,\n",
       " -0.08679549114331722,\n",
       " -0.02138771848315417,\n",
       " -0.03752012882447664,\n",
       " -0.017628205128205135,\n",
       " 0.08161616161616161,\n",
       " 0.05688819189963355,\n",
       " -0.02310194011438825,\n",
       " -0.02195340501792116,\n",
       " -0.0040000000000000036,\n",
       " -0.013113387518235292,\n",
       " -0.014786067098595146,\n",
       " -0.02573217402443516,\n",
       " 0.012035080980731055,\n",
       " -0.015698260549519144,\n",
       " -0.035668933146871126,\n",
       " -0.015026163767582548,\n",
       " -0.06512551229508196,\n",
       " -0.042768684298948784,\n",
       " 0.004848077569241105,\n",
       " 0.03396262669933227,\n",
       " 0.02096043297945588,\n",
       " 0.02234887295081968,\n",
       " -0.022733094262295084,\n",
       " -0.028116438904820656,\n",
       " 0.012048579358585637,\n",
       " -0.038712679084243806,\n",
       " -0.029083204930662562,\n",
       " 0.010275032160362144,\n",
       " 0.03420281500696547,\n",
       " -0.02185713599461979,\n",
       " 0.04303278688524591,\n",
       " -0.0628205128205128,\n",
       " 0.018402649981597352,\n",
       " -0.033491290983606564,\n",
       " -0.014955725288626293,\n",
       " -0.016406562625050025,\n",
       " -0.0047237033834526265,\n",
       " -0.0179660854109622,\n",
       " -0.0029280468487495603,\n",
       " -0.042050691244239644,\n",
       " 0.024327579285427545,\n",
       " -0.010428197846978238,\n",
       " 0.014299210581095581,\n",
       " -0.028502415458937197,\n",
       " -0.008295920359164558,\n",
       " 0.018952562521027255,\n",
       " 0.049859190988223265,\n",
       " -0.054341736694677886,\n",
       " 0.043056688907022495,\n",
       " -0.012929861900113623,\n",
       " -0.052877536649382245,\n",
       " -0.01811315924219152,\n",
       " 0.011042629686697489,\n",
       " 0.03307676305387977,\n",
       " -0.05715291444663116,\n",
       " 0.04193719040061558,\n",
       " -0.014883810255425386,\n",
       " -0.006414779652318944,\n",
       " -0.04436543020052533,\n",
       " 0.0208109710184399,\n",
       " 0.016,\n",
       " 0.01168464304057526,\n",
       " -0.0032993785636491746,\n",
       " -0.03567823899774107,\n",
       " 0.0025610244097639123,\n",
       " -0.0040000000000000036,\n",
       " 0.053525641025641016,\n",
       " 0.011941448382126352,\n",
       " -0.07724358974358973,\n",
       " -0.028428871668992953,\n",
       " -0.025772782015254903,\n",
       " 0.008000000000000007,\n",
       " 0.037634408602150546,\n",
       " 0.021633384536610345,\n",
       " -0.015126050420168083,\n",
       " -0.03177270908363346,\n",
       " 0.0026495383380168575,\n",
       " 0.0016025641025640969,\n",
       " -0.026653409455385205,\n",
       " 8.003201280512573e-05,\n",
       " -0.04892141756548536,\n",
       " 0.007265860060175405,\n",
       " -0.0327474501250882,\n",
       " 0.006832983949688745,\n",
       " -0.02681145492984817,\n",
       " -0.00539370841676895,\n",
       " 0.03027393753200204,\n",
       " -0.047222800083211974,\n",
       " -0.007999999999999993,\n",
       " 0.005645006094040672,\n",
       " 0.023129251700680267,\n",
       " -0.0392081491447242,\n",
       " -0.017070157706438216,\n",
       " -0.03597721016580244,\n",
       " -0.024000000000000007,\n",
       " 0.007999999999999993,\n",
       " 0.03456339291434429,\n",
       " 0.015126050420168083,\n",
       " 0.011644364384971698,\n",
       " 0.010840498951177724,\n",
       " -0.009615384615384609,\n",
       " 0.006208397337429616,\n",
       " -0.04155798434974636,\n",
       " -0.019088305412886614,\n",
       " 0.04193719040061558,\n",
       " -0.00664265706282513,\n",
       " -0.03940918472652219,\n",
       " -0.019524998399590293,\n",
       " -0.014272913466461853,\n",
       " -0.02061987704918032,\n",
       " 0.0076579246703727955,\n",
       " -0.04310745603488353,\n",
       " -0.03599999999999999,\n",
       " 0.04355827239122434,\n",
       " 0.05998335573906921,\n",
       " 0.026690591005943703,\n",
       " 0.009043617446978805,\n",
       " 0.0183215414480756,\n",
       " 0.05738020398999295,\n",
       " -0.008000000000000007,\n",
       " 0.0024425591506407746,\n",
       " -0.028981560101892054,\n",
       " -0.04385122591383393,\n",
       " 0.04959742351046699,\n",
       " -0.06824854406314676,\n",
       " -0.012182365342216644,\n",
       " -0.04198668714797747,\n",
       " -0.01840175835459082,\n",
       " 0.03079562032094134,\n",
       " 0.03834276891405043,\n",
       " -0.011999999999999997,\n",
       " -0.016676269124895976,\n",
       " -0.015439810365814599,\n",
       " -0.0018561187916026622,\n",
       " -0.011134106624312134,\n",
       " -0.03883432929076083,\n",
       " 0.002973750622880203,\n",
       " 0.002184949553370605,\n",
       " 0.03700859213747419,\n",
       " 0.014936387993133432,\n",
       " 0.010749380777387463,\n",
       " 0.041303790983606564,\n",
       " 0.03406762295081968,\n",
       " 0.04153569824876514,\n",
       " 0.01450737378104433,\n",
       " -0.013706535853412208,\n",
       " 0.03404172857050579,\n",
       " 0.045880825277737694,\n",
       " -0.049991176140283325,\n",
       " -0.009363745498199266,\n",
       " 0.038712679084243806,\n",
       " 0.033081936238010604,\n",
       " 0.06054185927067282,\n",
       " -0.03368340163934426,\n",
       " -0.03568508632712933,\n",
       " 0.0664516853572059,\n",
       " 0.026736250501806502,\n",
       " 0.015200243203891267,\n",
       " 0.01043801229508197,\n",
       " 0.05419950028829522,\n",
       " -0.0012004801920768304,\n",
       " 0.006410256410256415,\n",
       " 0.04603235747303544,\n",
       " -0.022969187675070044,\n",
       " 0.0016001024065540187,\n",
       " 0.03368340163934426,\n",
       " -0.0036230141554048634,\n",
       " -0.0009615384615384581,\n",
       " 0.024038153767364442,\n",
       " 0.02626852267624606,\n",
       " -0.015796472228007508,\n",
       " 0.004297902367053713,\n",
       " -0.0006081556878560906,\n",
       " -0.04500608623230189,\n",
       " 0.005906522855675389,\n",
       " -0.023999999999999994,\n",
       " 0.03864904740522164,\n",
       " 0.0026990553306342757,\n",
       " 0.016292170795723704,\n",
       " -0.010256410256410248,\n",
       " 0.00984393757503002,\n",
       " -0.029392930327868855,\n",
       " -0.04647435897435896,\n",
       " 0.02919147301709238,\n",
       " 0.015796472228007508,\n",
       " -0.03262315843472964,\n",
       " 0.05499799277398634,\n",
       " 0.03752587991718427,\n",
       " 0.011206454918032793,\n",
       " 0.03325004804920237,\n",
       " 0.01193546836700364,\n",
       " 0.0007226013649136998,\n",
       " -0.05715074993093809,\n",
       " -0.04873949579831932,\n",
       " -0.02497959706197693,\n",
       " 0.04404327507842007,\n",
       " 0.0032051282051282076,\n",
       " 0.0020666784152261197,\n",
       " -0.055472408632259926,\n",
       " -0.05199999999999999,\n",
       " 0.02288237655560016,\n",
       " 0.03237179487179488,\n",
       " -0.030535940177098847,\n",
       " 0.020485244222520987,\n",
       " -0.037134853941576645,\n",
       " 0.020334851497851053,\n",
       " -0.002176139272913463,\n",
       " 0.00951145698227411,\n",
       " 0.022739274455521583,\n",
       " -0.022513650702150487,\n",
       " -0.07329105003523609,\n",
       " 0.01629094893569022,\n",
       " 0.011056176898830386,\n",
       " -0.035152562440999055,\n",
       " 0.009964914529229887,\n",
       " -0.03910462567401078,\n",
       " 0.005824372759856644,\n",
       " 0.0348360655737705,\n",
       " 0.007043044392036069,\n",
       " -0.008563425370148064,\n",
       " -0.036019536019536016,\n",
       " 0.04192058502790427,\n",
       " 0.002677183026339,\n",
       " -0.007081177205658526,\n",
       " 0.0012188081339405965,\n",
       " -0.010077059869590982,\n",
       " 0.02963389656938044,\n",
       " -0.025985663082437285,\n",
       " -0.05304084865357846,\n",
       " -0.017170472548046906,\n",
       " -0.0451304891138916,\n",
       " -0.008070327136474986,\n",
       " -0.027525580054762924,\n",
       " 0.004282620377456817,\n",
       " 0.003796920809368942,\n",
       " -0.008000000000000007,\n",
       " -0.03620955315870569,\n",
       " 0.030535574104038843,\n",
       " -0.004289098009090331,\n",
       " 0.0272156762295082,\n",
       " 0.04713308447748284,\n",
       " 0.01097758077163112,\n",
       " 0.05218087234893959,\n",
       " 0.045651791004147235,\n",
       " 0.005647803004631191,\n",
       " -0.02365405543819217,\n",
       " -0.03758965163934426,\n",
       " -0.0066409562977068765,\n",
       " 0.013774104683195593,\n",
       " -0.0073449227019051905,\n",
       " 0.0071041136658186455,\n",
       " 0.009804706900142596,\n",
       " 0.005955430327868855,\n",
       " 0.01674718196457327,\n",
       " -0.0201011458933487,\n",
       " -0.022017409114183303,\n",
       " 0.038975590236094454,\n",
       " 0.017122901881266195,\n",
       " 0.047232755724091594,\n",
       " 0.0009761405642412513,\n",
       " -0.03184815312720056,\n",
       " -0.020210783368678126,\n",
       " -0.006662822730476012,\n",
       " -0.008012820512820512,\n",
       " -0.025530212084833942,\n",
       " -0.03468486551585709,\n",
       " 0.03141025641025641,\n",
       " -0.049138317637260565,\n",
       " -0.07897726363621817,\n",
       " 0.020971178647527206,\n",
       " -0.016103059581320453,\n",
       " -0.007334019557385482,\n",
       " -0.025267638539949747,\n",
       " -0.016395814245069196,\n",
       " 0.00644892864572498,\n",
       " 0.04765336023442378,\n",
       " 0.008712922032160925,\n",
       " -0.0026952880589112826,\n",
       " 0.02705082032813126,\n",
       " 0.025486680327868855,\n",
       " 0.03377509006690685,\n",
       " 0.020835000240034582,\n",
       " 0.022835288281512545,\n",
       " 0.04783799804546693,\n",
       " -0.021388319672131145,\n",
       " 0.014976239619833909,\n",
       " 0.04726125058075266,\n",
       " 0.03235312960471522,\n",
       " 0.026602564102564105,\n",
       " -0.05084528688524591,\n",
       " -0.01001744251172168,\n",
       " -0.03292852685642972,\n",
       " 0.0003524567839920528,\n",
       " 0.008403361344537813,\n",
       " 0.019701272240137332,\n",
       " 0.008689251252180313,\n",
       " 0.020663351518370107,\n",
       " 0.04787753598821476,\n",
       " 0.014976239619833909,\n",
       " 0.0742186874909987,\n",
       " -0.03964708331331765,\n",
       " -0.007173624121311117,\n",
       " -0.013178331812140703,\n",
       " 0.019847939175670265,\n",
       " -0.014949494949494962,\n",
       " -0.048259303721488594,\n",
       " -0.01999999999999999,\n",
       " -0.01131218099489592,\n",
       " -0.0016649590163934358,\n",
       " 0.017362500200028802,\n",
       " 0.002112135176651292,\n",
       " -0.008362838238356915,\n",
       " 0.009265334208125961,\n",
       " 0.0043100654611445965,\n",
       " -0.014450080811636887,\n",
       " -0.05485509219949054,\n",
       " 0.02109934475079704,\n",
       " 0.10257641991321197,\n",
       " 0.026928430854893687,\n",
       " 0.07130852340936376,\n",
       " -0.039999999999999994,\n",
       " -0.03892177045805455,\n",
       " 0.038461538461538464,\n",
       " 0.005655329306781615,\n",
       " 0.04231232436772381,\n",
       " 0.024741340530814213,\n",
       " -0.0028176229508196787,\n",
       " -0.0291430777148739,\n",
       " 0.011684643040575246,\n",
       " 0.020229178669739445,\n",
       " 0.05303163655566401,\n",
       " -0.025930372148859543,\n",
       " -0.04359664296239349,\n",
       " -0.017674180327868855,\n",
       " 0.05556000576747465,\n",
       " -0.006336405529953917,\n",
       " -0.014514811195309119,\n",
       " -0.04497671962751404,\n",
       " -0.005477609071689413,\n",
       " -0.02913165266106442,\n",
       " 0.011184178946863146,\n",
       " 0.02085335383432635,\n",
       " -0.010367941360852576,\n",
       " -0.01999999999999999,\n",
       " -0.015999999999999986,\n",
       " 0.026254516258530702,\n",
       " -0.009281969893714243,\n",
       " -0.002643425879940403,\n",
       " 0.0026881720430107503,\n",
       " 0.011435710167211233,\n",
       " -0.04308411813697226,\n",
       " 0.005597014925373123,\n",
       " 0.0,\n",
       " 0.012772984086383582,\n",
       " -0.036041226553997815,\n",
       " 0.00040016006402561477,\n",
       " 0.029190979087299687,\n",
       " -0.022480931352870326,\n",
       " -0.03522028688524591,\n",
       " -0.06198770491803279,\n",
       " 0.021697388632872516,\n",
       " 0.015136242179874873,\n",
       " 0.051780246557335,\n",
       " 0.04360911885245902,\n",
       " -0.009920634920634927,\n",
       " 0.028231227194161698,\n",
       " 0.05679217807364262,\n",
       " 0.028331332533013204,\n",
       " 0.026344163890632294,\n",
       " 0.011538461538461539,\n",
       " 0.029008464135426168,\n",
       " 0.020522388059701496,\n",
       " 0.020000000000000004,\n",
       " -0.001853075299311946,\n",
       " 0.005763319672131145,\n",
       " 0.03502321981424149,\n",
       " -0.056410256410256404,\n",
       " 0.00852304586744422,\n",
       " -0.016804301901286733,\n",
       " -0.028331332533013204,\n",
       " -0.009728622631848441,\n",
       " 0.02064825930372148,\n",
       " 0.013960040983606564,\n",
       " -0.0032051282051282076,\n",
       " -0.043620501635768805,\n",
       " -0.0333733493397359,\n",
       " -0.023609443777511008,\n",
       " 0.06569764643596283,\n",
       " 0.02995391705069124,\n",
       " -0.0015051800611679544,\n",
       " -0.00032032801588827153,\n",
       " -0.000832652799795025,\n",
       " -0.006723872950819679,\n",
       " 0.003970358939737351,\n",
       " -0.05948491255045167,\n",
       " 0.051597208885474685,\n",
       " -0.026187263029368302,\n",
       " 0.000832652799795025,\n",
       " 0.009363745498199266,\n",
       " 0.0020491803278688547,\n",
       " -0.0036837721827151226,\n",
       " -0.012949039264828738,\n",
       " 0.010576923076923081,\n",
       " 0.019498159489479333,\n",
       " -0.02497959706197693,\n",
       " 0.021681955224838026,\n",
       " 0.033333333333333326,\n",
       " -0.05064102564102564,\n",
       " 0.04038538739462064,\n",
       " -0.00897435897435897,\n",
       " -0.01752701080432173,\n",
       " -0.007122849139655857,\n",
       " -0.05297684762956206,\n",
       " -0.004144977829188351,\n",
       " -0.00912233531784136,\n",
       " 0.009694401643554174,\n",
       " -0.04908878542056673,\n",
       " 0.01999999999999999,\n",
       " -0.06892230576441102,\n",
       " 0.006919085143186621,\n",
       " -0.042886175609287744,\n",
       " 0.020976335621369954,\n",
       " 0.006725272613729155,\n",
       " 0.028807374687920106,\n",
       " -0.016740285513091355,\n",
       " -0.0022401433691756206,\n",
       " 0.029623224608092746,\n",
       " 0.010630122950819679,\n",
       " 0.008464387053335257,\n",
       " -0.06792138787529607,\n",
       " 0.0063620589936379535,\n",
       " -0.002564965773737951,\n",
       " 0.007288441692466466,\n",
       " -0.0506531762295082,\n",
       " 0.014331723027375204,\n",
       " 0.03473389355742297,\n",
       " -0.032092837134853947,\n",
       " -0.0013601958682050164,\n",
       " -0.0269887961935992,\n",
       " 0.01921710483818874,\n",
       " -0.03878205128205127,\n",
       " -0.05791530527259914,\n",
       " 0.0016001024065540187,\n",
       " -0.016604899648649946,\n",
       " 0.02242741948412126,\n",
       " -0.008738236988669101,\n",
       " -0.009363745498199266,\n",
       " -0.014059022273462396,\n",
       " -0.011924136708615987,\n",
       " -0.0001284026707755459,\n",
       " -0.06583701324769169,\n",
       " 0.031592789787670786,\n",
       " -0.006944111105777695,\n",
       " -0.0020481310803891345,\n",
       " -0.0012810043073769872,\n",
       " -0.012886137246299098,\n",
       " 0.005326402592610441,\n",
       " 0.02365405543819217,\n",
       " -0.007043044392036069,\n",
       " -0.0027358019923075794,\n",
       " 0.031288530207682824,\n",
       " -0.009545923632610948,\n",
       " -0.018269230769230774,\n",
       " -0.015908072466551446,\n",
       " -0.08243727598566308,\n",
       " -0.00803405671851995,\n",
       " 0.011307578960855921,\n",
       " 0.041503914098792824,\n",
       " -0.004929261891044118,\n",
       " -0.004965084246268181,\n",
       " 0.04036133000192196,\n",
       " -0.033107069672131145,\n",
       " -0.0012820512820512775,\n",
       " 0.0007876420568709713,\n",
       " 0.0023550521475832753,\n",
       " -0.014066229833864685,\n",
       " -0.014978510488164731,\n",
       " 0.046146953405017926,\n",
       " 0.005024723560192665,\n",
       " 0.0323564833400241,\n",
       " -0.019070951626074834,\n",
       " -0.016666666666666663,\n",
       " 0.023949795081967207,\n",
       " -0.02307236915790653,\n",
       " 0.03821044546850999,\n",
       " -0.008977292730153144,\n",
       " 0.008651211970714043,\n",
       " -0.002960047360757778,\n",
       " -0.01200000000000001,\n",
       " 0.002602660497397352,\n",
       " 0.03196873598564931,\n",
       " 0.03223115303781425,\n",
       " -0.01666159342507889,\n",
       " 0.01292929292929293,\n",
       " -0.022010153589100953,\n",
       " -0.0467469262295082,\n",
       " -0.04666752197062031,\n",
       " 0.01829072970722019,\n",
       " 0.025615763546798023,\n",
       " -0.004961984793917559,\n",
       " 0.05756028868157015,\n",
       " -0.013665710761146449,\n",
       " -0.032,\n",
       " -0.10044158972300281,\n",
       " 0.014344262295081955,\n",
       " 0.058673592074255765,\n",
       " -0.02545966619193163,\n",
       " -0.004392503887526239,\n",
       " -0.027243589743589758,\n",
       " -0.0349810372693668,\n",
       " 0.03740532577540792,\n",
       " -0.03044871794871795,\n",
       " 0.04303278688524591,\n",
       " 0.026683323723492858,\n",
       " -0.0565015479876161,\n",
       " 0.025267638539949747,\n",
       " 0.06622792269139004,\n",
       " -0.00905614489831838,\n",
       " 0.04689112487100104,\n",
       " -0.029264468231491703,\n",
       " -0.0034277989668324294,\n",
       " -0.03346726694744316,\n",
       " 0.0029280468487495603,\n",
       " -0.026538715018244355,\n",
       " -0.0057435305064895414,\n",
       " 0.005769230769230763,\n",
       " 0.024845916795069325,\n",
       " 0.006089743589743596,\n",
       " -0.04326923076923078,\n",
       " -0.04961120750594436,\n",
       " 0.019216307460919374,\n",
       " 0.048896782348517576,\n",
       " 0.004695744783850514,\n",
       " 0.024679487179487175,\n",
       " -0.012103968751506974,\n",
       " 0.0030298658202279616,\n",
       " 0.02023422355372563,\n",
       " 0.004947879137243594,\n",
       " 0.048419367747098846,\n",
       " 0.020008003201280516,\n",
       " 0.022733094262295084,\n",
       " 0.009339774557165864,\n",
       " 0.028714610290207707,\n",
       " -0.021834271148944373,\n",
       " 0.004144977829188351,\n",
       " -0.03473925519806345,\n",
       " -0.04046149631801996,\n",
       " 0.01955128205128205,\n",
       " 0.010176651305683557,\n",
       " 0.05089681434902958,\n",
       " 0.0250500200080032,\n",
       " 0.008243297318927575,\n",
       " -0.026888707063900785,\n",
       " -0.011088177410838576,\n",
       " -0.0249597423510467,\n",
       " 0.030374321210461006,\n",
       " 0.05122950819672131,\n",
       " 6.406560317764876e-05,\n",
       " 0.0394524959742351,\n",
       " 0.013888888888888895,\n",
       " 0.004994877049180321,\n",
       " 0.013850859073513633,\n",
       " -0.012004801920768304,\n",
       " -0.028011204481792715,\n",
       " -0.02191375875586403,\n",
       " 0.0318747490967483,\n",
       " -0.02100409836065574,\n",
       " -0.00963465268760319,\n",
       " 0.025729646697388642,\n",
       " -0.030081925243215554,\n",
       " 0.05300884814157028,\n",
       " -0.030912494599913604,\n",
       " 0.037091097812160426,\n",
       " 0.022145417306707646,\n",
       " 0.012965186074429785,\n",
       " 0.011644364384971698,\n",
       " 0.038082437275985676,\n",
       " 0.0010721543902321995,\n",
       " -0.01184303181614492,\n",
       " -0.025460846127929926,\n",
       " 0.009943795936013827,\n",
       " -0.05933952528379774,\n",
       " 0.022809123649459778,\n",
       " -0.027999999999999997,\n",
       " 0.0040000000000000036,\n",
       " -0.021507447354904993,\n",
       " 0.010653807334305265,\n",
       " -0.01936278824150678,\n",
       " 0.036951352740826435,\n",
       " -0.0013777856101507557,\n",
       " 0.045731067757499494,\n",
       " -0.036100967390607974,\n",
       " 0.01571602330196531,\n",
       " -0.016969696969696968,\n",
       " -0.00794413479402907,\n",
       " 0.005861099959855481,\n",
       " 0.0015522235201869128,\n",
       " 0.01285074842373779,\n",
       " 0.03786530723480658,\n",
       " 0.024000000000000007,\n",
       " 0.03729491796718688,\n",
       " 0.033706060021849504,\n",
       " 0.008000000000000007,\n",
       " -0.05199276232566333,\n",
       " 0.014965986394557818,\n",
       " -0.008864141826269212,\n",
       " -0.004001600640256106,\n",
       " 0.031743985562126376,\n",
       " -0.005008080129282055,\n",
       " -0.01825051229508197,\n",
       " 0.017674180327868855,\n",
       " -0.008098073106715314,\n",
       " -0.026428892167554036,\n",
       " -0.051602564102564086,\n",
       " 0.058844256518675114,\n",
       " 0.008921171939745537,\n",
       " 0.019717047564176415,\n",
       " -0.03584917738941169,\n",
       " 0.008738236988669101,\n",
       " 0.03394779483723989,\n",
       " 0.015122177593573469,\n",
       " -0.004944079105265689,\n",
       " 0.023191748350310723,\n",
       " -0.025411734431291813,\n",
       " 0.05223737276742846,\n",
       " -0.055534216759490426,\n",
       " -0.00893958570307117,\n",
       " 0.01996765464123873,\n",
       " -0.055662249535881184,\n",
       " 0.025370148059223704,\n",
       " -0.04727610268228666,\n",
       " -0.021608643457382948,\n",
       " 0.035083505468287146,\n",
       " -0.004544062907877983,\n",
       " 0.015844056078356067,\n",
       " -0.016,\n",
       " 0.03452474406831253,\n",
       " -0.09084488957370312,\n",
       " ...]"
      ]
     },
     "execution_count": 26,
     "metadata": {},
     "output_type": "execute_result"
    }
   ],
   "source": [
    "p_diffs =[]\n",
    "for _ in range(10000):\n",
    "    boot_sample=df2.sample(500, replace=True)\n",
    "    old_mean = boot_sample[(boot_sample['group']=='control') & (boot_sample['converted']==1)].shape[0]/boot_sample[(boot_sample['group']=='control')].shape[0]\n",
    "    new_mean = boot_sample[(boot_sample['group']=='treatment') & (boot_sample['converted']==1)].shape[0]/boot_sample[(boot_sample['group']=='treatment')].shape[0]\n",
    "    p_diffs.append(new_mean - old_mean)\n",
    "p_diffs"
   ]
  },
  {
   "cell_type": "markdown",
   "metadata": {},
   "source": [
    "i. Plot a histogram of the **p_diffs**.  Does this plot look like what you expected?  Use the matching problem in the classroom to assure you fully understand what was computed here."
   ]
  },
  {
   "cell_type": "code",
   "execution_count": 27,
   "metadata": {},
   "outputs": [
    {
     "data": {
      "text/plain": [
       "(array([   4.,   35.,  291., 1318., 2794., 3220., 1780.,  493.,   61.,\n",
       "           4.]),\n",
       " array([-0.13005632, -0.10508144, -0.08010655, -0.05513166, -0.03015677,\n",
       "        -0.00518189,  0.019793  ,  0.04476789,  0.06974278,  0.09471766,\n",
       "         0.11969255]),\n",
       " <BarContainer object of 10 artists>)"
      ]
     },
     "execution_count": 27,
     "metadata": {},
     "output_type": "execute_result"
    },
    {
     "data": {
      "image/png": "[encoded data removed]",
      "text/plain": [
       "<Figure size 432x288 with 1 Axes>"
      ]
     },
     "metadata": {
      "needs_background": "light"
     },
     "output_type": "display_data"
    }
   ],
   "source": [
    "p_diffs=np.array(p_diffs)\n",
    "plt.hist(p_diffs)"
   ]
  },
  {
   "cell_type": "markdown",
   "metadata": {},
   "source": [
    "j. What proportion of the **p_diffs** are greater than the actual difference observed in **ab_data.csv**?"
   ]
  },
  {
   "cell_type": "code",
   "execution_count": 28,
   "metadata": {},
   "outputs": [
    {
     "data": {
      "text/plain": [
       "-0.0015782389853555567"
      ]
     },
     "execution_count": 28,
     "metadata": {},
     "output_type": "execute_result"
    }
   ],
   "source": [
    "obs_diff = df2[(df2['group']=='treatment') & (df2['converted']==1)].shape[0]/df2[(df2['group']=='treatment')].shape[0] - df2[(df2['group']=='control') & (df2['converted']==1)].shape[0]/df2[(df2['group']=='control')].shape[0] \n",
    "obs_diff"
   ]
  },
  {
   "cell_type": "code",
   "execution_count": 29,
   "metadata": {},
   "outputs": [
    {
     "data": {
      "text/plain": [
       "<matplotlib.lines.Line2D at 0x1130cb83790>"
      ]
     },
     "execution_count": 29,
     "metadata": {},
     "output_type": "execute_result"
    },
    {
     "data": {
      "image/png": "[encoded data removed]",
      "text/plain": [
       "<Figure size 432x288 with 1 Axes>"
      ]
     },
     "metadata": {
      "needs_background": "light"
     },
     "output_type": "display_data"
    }
   ],
   "source": [
    "plt.hist(p_diffs)\n",
    "plt.axvline(obs_diff, color='r')"
   ]
  },
  {
   "cell_type": "code",
   "execution_count": 30,
   "metadata": {},
   "outputs": [
    {
     "data": {
      "text/plain": [
       "0.5061"
      ]
     },
     "execution_count": 30,
     "metadata": {},
     "output_type": "execute_result"
    }
   ],
   "source": [
    "p_value = (p_diffs > obs_diff).mean()\n",
    "p_value"
   ]
  },
  {
   "cell_type": "markdown",
   "metadata": {},
   "source": [
    "k. In words, explain what you just computed in part **j.**  What is this value called in scientific studies?  What does this value mean in terms of whether or not there is a difference between the new and old pages?"
   ]
  },
  {
   "cell_type": "markdown",
   "metadata": {},
   "source": [
    "p-value. It is the probability of getting the statistic we observed under the null hypothesis."
   ]
  },
  {
   "cell_type": "markdown",
   "metadata": {},
   "source": [
    "l. We could also use a built-in to achieve similar results.  Though using the built-in might be easier to code, the above portions are a walkthrough of the ideas that are critical to correctly thinking about statistical significance. Fill in the below to calculate the number of conversions for each page, as well as the number of individuals who received each page. Let `n_old` and `n_new` refer the the number of rows associated with the old page and new pages, respectively."
   ]
  },
  {
   "cell_type": "code",
   "execution_count": 31,
   "metadata": {},
   "outputs": [],
   "source": [
    "import statsmodels.api as sm\n",
    "\n",
    "convert_old = df2[(df2['group']=='control') & (df2['converted']==1)].shape[0]\n",
    "convert_new = df2[(df2['group']=='treatment') & (df2['converted']==1)].shape[0]\n",
    "n_old = df2[df2['group']=='control'].shape[0]\n",
    "n_new = df2[df2['group']=='treatment'].shape[0]"
   ]
  },
  {
   "cell_type": "markdown",
   "metadata": {},
   "source": [
    "m. Now use `stats.proportions_ztest` to compute your test statistic and p-value.  [Here](http://knowledgetack.com/python/statsmodels/proportions_ztest/) is a helpful link on using the built in."
   ]
  },
  {
   "cell_type": "code",
   "execution_count": 53,
   "metadata": {},
   "outputs": [
    {
     "data": {
      "text/plain": [
       "(1.3109241984234394, 0.09494168724097551)"
      ]
     },
     "execution_count": 53,
     "metadata": {},
     "output_type": "execute_result"
    }
   ],
   "source": [
    "sm.stats.proportions_ztest([convert_old, convert_new], [n_old, n_new], alternative='larger')"
   ]
  },
  {
   "cell_type": "markdown",
   "metadata": {},
   "source": [
    "n. What do the z-score and p-value you computed in the previous question mean for the conversion rates of the old and new pages?  Do they agree with the findings in parts **j.** and **k.**?"
   ]
  },
  {
   "cell_type": "markdown",
   "metadata": {},
   "source": [
    "the z-score and p-value from the z-test indicate that there is no significant change in conversion rae since p-value > 0.05.\n"
   ]
  },
  {
   "cell_type": "markdown",
   "metadata": {},
   "source": [
    "they are different in value than those found in j and k but give the same conclusion."
   ]
  },
  {
   "cell_type": "markdown",
   "metadata": {},
   "source": [
    "<a id='regression'></a>\n",
    "### Part III - A regression approach\n",
    "\n",
    "`1.` In this final part, you will see that the result you acheived in the previous A/B test can also be acheived by performing regression.<br><br>\n",
    "\n",
    "a. Since each row is either a conversion or no conversion, what type of regression should you be performing in this case?"
   ]
  },
  {
   "cell_type": "markdown",
   "metadata": {},
   "source": [
    "logistic regression"
   ]
  },
  {
   "cell_type": "markdown",
   "metadata": {},
   "source": [
    "b. The goal is to use **statsmodels** to fit the regression model you specified in part **a.** to see if there is a significant difference in conversion based on which page a customer receives.  However, you first need to create a column for the intercept, and create a dummy variable column for which page each user received.  Add an **intercept** column, as well as an **ab_page** column, which is 1 when an individual receives the **treatment** and 0 if **control**."
   ]
  },
  {
   "cell_type": "code",
   "execution_count": 33,
   "metadata": {},
   "outputs": [],
   "source": [
    "df2.loc[:,'intercept']=1"
   ]
  },
  {
   "cell_type": "code",
   "execution_count": 34,
   "metadata": {},
   "outputs": [],
   "source": [
    "df2['ab_page']=(df2['group']=='treatment').astype('int')"
   ]
  },
  {
   "cell_type": "code",
   "execution_count": 35,
   "metadata": {},
   "outputs": [
    {
     "data": {
      "text/html": [
       "<div>\n",
       "<style scoped>\n",
       "    .dataframe tbody tr th:only-of-type {\n",
       "        vertical-align: middle;\n",
       "    }\n",
       "\n",
       "    .dataframe tbody tr th {\n",
       "        vertical-align: top;\n",
       "    }\n",
       "\n",
       "    .dataframe thead th {\n",
       "        text-align: right;\n",
       "    }\n",
       "</style>\n",
       "<table border=\"1\" class=\"dataframe\">\n",
       "  <thead>\n",
       "    <tr style=\"text-align: right;\">\n",
       "      <th></th>\n",
       "      <th>user_id</th>\n",
       "      <th>timestamp</th>\n",
       "      <th>group</th>\n",
       "      <th>landing_page</th>\n",
       "      <th>converted</th>\n",
       "      <th>intercept</th>\n",
       "      <th>ab_page</th>\n",
       "    </tr>\n",
       "  </thead>\n",
       "  <tbody>\n",
       "    <tr>\n",
       "      <th>0</th>\n",
       "      <td>851104</td>\n",
       "      <td>2017-01-21 22:11:48.556739</td>\n",
       "      <td>control</td>\n",
       "      <td>old_page</td>\n",
       "      <td>0</td>\n",
       "      <td>1</td>\n",
       "      <td>0</td>\n",
       "    </tr>\n",
       "    <tr>\n",
       "      <th>1</th>\n",
       "      <td>804228</td>\n",
       "      <td>2017-01-12 08:01:45.159739</td>\n",
       "      <td>control</td>\n",
       "      <td>old_page</td>\n",
       "      <td>0</td>\n",
       "      <td>1</td>\n",
       "      <td>0</td>\n",
       "    </tr>\n",
       "    <tr>\n",
       "      <th>2</th>\n",
       "      <td>661590</td>\n",
       "      <td>2017-01-11 16:55:06.154213</td>\n",
       "      <td>treatment</td>\n",
       "      <td>new_page</td>\n",
       "      <td>0</td>\n",
       "      <td>1</td>\n",
       "      <td>1</td>\n",
       "    </tr>\n",
       "    <tr>\n",
       "      <th>3</th>\n",
       "      <td>853541</td>\n",
       "      <td>2017-01-08 18:28:03.143765</td>\n",
       "      <td>treatment</td>\n",
       "      <td>new_page</td>\n",
       "      <td>0</td>\n",
       "      <td>1</td>\n",
       "      <td>1</td>\n",
       "    </tr>\n",
       "    <tr>\n",
       "      <th>4</th>\n",
       "      <td>864975</td>\n",
       "      <td>2017-01-21 01:52:26.210827</td>\n",
       "      <td>control</td>\n",
       "      <td>old_page</td>\n",
       "      <td>1</td>\n",
       "      <td>1</td>\n",
       "      <td>0</td>\n",
       "    </tr>\n",
       "  </tbody>\n",
       "</table>\n",
       "</div>"
      ],
      "text/plain": [
       "   user_id                   timestamp      group landing_page  converted  \\\n",
       "0   851104  2017-01-21 22:11:48.556739    control     old_page          0   \n",
       "1   804228  2017-01-12 08:01:45.159739    control     old_page          0   \n",
       "2   661590  2017-01-11 16:55:06.154213  treatment     new_page          0   \n",
       "3   853541  2017-01-08 18:28:03.143765  treatment     new_page          0   \n",
       "4   864975  2017-01-21 01:52:26.210827    control     old_page          1   \n",
       "\n",
       "   intercept  ab_page  \n",
       "0          1        0  \n",
       "1          1        0  \n",
       "2          1        1  \n",
       "3          1        1  \n",
       "4          1        0  "
      ]
     },
     "execution_count": 35,
     "metadata": {},
     "output_type": "execute_result"
    }
   ],
   "source": [
    "df2.head()"
   ]
  },
  {
   "cell_type": "markdown",
   "metadata": {},
   "source": [
    "c. Use **statsmodels** to import your regression model.  Instantiate the model, and fit the model using the two columns you created in part **b.** to predict whether or not an individual converts."
   ]
  },
  {
   "cell_type": "code",
   "execution_count": 36,
   "metadata": {},
   "outputs": [
    {
     "name": "stdout",
     "output_type": "stream",
     "text": [
      "Optimization terminated successfully.\n",
      "         Current function value: 0.366118\n",
      "         Iterations 6\n"
     ]
    }
   ],
   "source": [
    "log_mod = sm.Logit(df2['converted'], df2[['intercept','ab_page']])\n",
    "results=log_mod.fit()"
   ]
  },
  {
   "cell_type": "markdown",
   "metadata": {},
   "source": [
    "d. Provide the summary of your model below, and use it as necessary to answer the following questions."
   ]
  },
  {
   "cell_type": "code",
   "execution_count": 37,
   "metadata": {},
   "outputs": [
    {
     "data": {
      "text/html": [
       "<table class=\"simpletable\">\n",
       "<caption>Logit Regression Results</caption>\n",
       "<tr>\n",
       "  <th>Dep. Variable:</th>       <td>converted</td>    <th>  No. Observations:  </th>   <td>290584</td>   \n",
       "</tr>\n",
       "<tr>\n",
       "  <th>Model:</th>                 <td>Logit</td>      <th>  Df Residuals:      </th>   <td>290582</td>   \n",
       "</tr>\n",
       "<tr>\n",
       "  <th>Method:</th>                 <td>MLE</td>       <th>  Df Model:          </th>   <td>     1</td>   \n",
       "</tr>\n",
       "<tr>\n",
       "  <th>Date:</th>            <td>Tue, 26 Oct 2021</td> <th>  Pseudo R-squ.:     </th>  <td>8.077e-06</td> \n",
       "</tr>\n",
       "<tr>\n",
       "  <th>Time:</th>                <td>00:17:10</td>     <th>  Log-Likelihood:    </th> <td>-1.0639e+05</td>\n",
       "</tr>\n",
       "<tr>\n",
       "  <th>converged:</th>             <td>True</td>       <th>  LL-Null:           </th> <td>-1.0639e+05</td>\n",
       "</tr>\n",
       "<tr>\n",
       "  <th>Covariance Type:</th>     <td>nonrobust</td>    <th>  LLR p-value:       </th>   <td>0.1899</td>   \n",
       "</tr>\n",
       "</table>\n",
       "<table class=\"simpletable\">\n",
       "<tr>\n",
       "      <td></td>         <th>coef</th>     <th>std err</th>      <th>z</th>      <th>P>|z|</th>  <th>[0.025</th>    <th>0.975]</th>  \n",
       "</tr>\n",
       "<tr>\n",
       "  <th>intercept</th> <td>   -1.9888</td> <td>    0.008</td> <td> -246.669</td> <td> 0.000</td> <td>   -2.005</td> <td>   -1.973</td>\n",
       "</tr>\n",
       "<tr>\n",
       "  <th>ab_page</th>   <td>   -0.0150</td> <td>    0.011</td> <td>   -1.311</td> <td> 0.190</td> <td>   -0.037</td> <td>    0.007</td>\n",
       "</tr>\n",
       "</table>"
      ],
      "text/plain": [
       "<class 'statsmodels.iolib.summary.Summary'>\n",
       "\"\"\"\n",
       "                           Logit Regression Results                           \n",
       "==============================================================================\n",
       "Dep. Variable:              converted   No. Observations:               290584\n",
       "Model:                          Logit   Df Residuals:                   290582\n",
       "Method:                           MLE   Df Model:                            1\n",
       "Date:                Tue, 26 Oct 2021   Pseudo R-squ.:               8.077e-06\n",
       "Time:                        00:17:10   Log-Likelihood:            -1.0639e+05\n",
       "converged:                       True   LL-Null:                   -1.0639e+05\n",
       "Covariance Type:            nonrobust   LLR p-value:                    0.1899\n",
       "==============================================================================\n",
       "                 coef    std err          z      P>|z|      [0.025      0.975]\n",
       "------------------------------------------------------------------------------\n",
       "intercept     -1.9888      0.008   -246.669      0.000      -2.005      -1.973\n",
       "ab_page       -0.0150      0.011     -1.311      0.190      -0.037       0.007\n",
       "==============================================================================\n",
       "\"\"\""
      ]
     },
     "execution_count": 37,
     "metadata": {},
     "output_type": "execute_result"
    }
   ],
   "source": [
    "results.summary()"
   ]
  },
  {
   "cell_type": "markdown",
   "metadata": {},
   "source": [
    "e. What is the p-value associated with **ab_page**? Why does it differ from the value you found in **Part II**?<br><br>  **Hint**: What are the null and alternative hypotheses associated with your regression model, and how do they compare to the null and alternative hypotheses in the **Part II**?"
   ]
  },
  {
   "cell_type": "markdown",
   "metadata": {},
   "source": [
    "the p-value for ab_page is 0.19 which is larger that the one found in part II. The reason is that in the regression model's hypotheses are related to the exponents of the change in page level not the change in page itslef as is the case in part II. "
   ]
  },
  {
   "cell_type": "markdown",
   "metadata": {},
   "source": [
    "f. Now, you are considering other things that might influence whether or not an individual converts.  Discuss why it is a good idea to consider other factors to add into your regression model.  Are there any disadvantages to adding additional terms into your regression model?"
   ]
  },
  {
   "cell_type": "markdown",
   "metadata": {},
   "source": [
    "there might be other variables affecting the user's decision that are unrelated to the page itself but to the user like their income or how long they have been using that website for."
   ]
  },
  {
   "cell_type": "markdown",
   "metadata": {},
   "source": [
    "g. Now along with testing if the conversion rate changes for different pages, also add an effect based on which country a user lives. You will need to read in the **countries.csv** dataset and merge together your datasets on the approporiate rows.  [Here](https://pandas.pydata.org/pandas-docs/stable/generated/pandas.DataFrame.join.html) are the docs for joining tables. \n",
    "\n",
    "Does it appear that country had an impact on conversion?  Don't forget to create dummy variables for these country columns - **Hint: You will need two columns for the three dummy variables.** Provide the statistical output as well as a written response to answer this question."
   ]
  },
  {
   "cell_type": "code",
   "execution_count": 38,
   "metadata": {},
   "outputs": [],
   "source": [
    "countries_df = pd.read_csv('./countries.csv')\n",
    "df_new = countries_df.set_index('user_id').join(df2.set_index('user_id'), how='inner')"
   ]
  },
  {
   "cell_type": "code",
   "execution_count": 39,
   "metadata": {},
   "outputs": [
    {
     "data": {
      "text/html": [
       "<div>\n",
       "<style scoped>\n",
       "    .dataframe tbody tr th:only-of-type {\n",
       "        vertical-align: middle;\n",
       "    }\n",
       "\n",
       "    .dataframe tbody tr th {\n",
       "        vertical-align: top;\n",
       "    }\n",
       "\n",
       "    .dataframe thead th {\n",
       "        text-align: right;\n",
       "    }\n",
       "</style>\n",
       "<table border=\"1\" class=\"dataframe\">\n",
       "  <thead>\n",
       "    <tr style=\"text-align: right;\">\n",
       "      <th></th>\n",
       "      <th>country</th>\n",
       "      <th>timestamp</th>\n",
       "      <th>group</th>\n",
       "      <th>landing_page</th>\n",
       "      <th>converted</th>\n",
       "      <th>intercept</th>\n",
       "      <th>ab_page</th>\n",
       "    </tr>\n",
       "    <tr>\n",
       "      <th>user_id</th>\n",
       "      <th></th>\n",
       "      <th></th>\n",
       "      <th></th>\n",
       "      <th></th>\n",
       "      <th></th>\n",
       "      <th></th>\n",
       "      <th></th>\n",
       "    </tr>\n",
       "  </thead>\n",
       "  <tbody>\n",
       "    <tr>\n",
       "      <th>834778</th>\n",
       "      <td>UK</td>\n",
       "      <td>2017-01-14 23:08:43.304998</td>\n",
       "      <td>control</td>\n",
       "      <td>old_page</td>\n",
       "      <td>0</td>\n",
       "      <td>1</td>\n",
       "      <td>0</td>\n",
       "    </tr>\n",
       "    <tr>\n",
       "      <th>928468</th>\n",
       "      <td>US</td>\n",
       "      <td>2017-01-23 14:44:16.387854</td>\n",
       "      <td>treatment</td>\n",
       "      <td>new_page</td>\n",
       "      <td>0</td>\n",
       "      <td>1</td>\n",
       "      <td>1</td>\n",
       "    </tr>\n",
       "    <tr>\n",
       "      <th>822059</th>\n",
       "      <td>UK</td>\n",
       "      <td>2017-01-16 14:04:14.719771</td>\n",
       "      <td>treatment</td>\n",
       "      <td>new_page</td>\n",
       "      <td>1</td>\n",
       "      <td>1</td>\n",
       "      <td>1</td>\n",
       "    </tr>\n",
       "    <tr>\n",
       "      <th>711597</th>\n",
       "      <td>UK</td>\n",
       "      <td>2017-01-22 03:14:24.763511</td>\n",
       "      <td>control</td>\n",
       "      <td>old_page</td>\n",
       "      <td>0</td>\n",
       "      <td>1</td>\n",
       "      <td>0</td>\n",
       "    </tr>\n",
       "    <tr>\n",
       "      <th>710616</th>\n",
       "      <td>UK</td>\n",
       "      <td>2017-01-16 13:14:44.000513</td>\n",
       "      <td>treatment</td>\n",
       "      <td>new_page</td>\n",
       "      <td>0</td>\n",
       "      <td>1</td>\n",
       "      <td>1</td>\n",
       "    </tr>\n",
       "  </tbody>\n",
       "</table>\n",
       "</div>"
      ],
      "text/plain": [
       "        country                   timestamp      group landing_page  \\\n",
       "user_id                                                               \n",
       "834778       UK  2017-01-14 23:08:43.304998    control     old_page   \n",
       "928468       US  2017-01-23 14:44:16.387854  treatment     new_page   \n",
       "822059       UK  2017-01-16 14:04:14.719771  treatment     new_page   \n",
       "711597       UK  2017-01-22 03:14:24.763511    control     old_page   \n",
       "710616       UK  2017-01-16 13:14:44.000513  treatment     new_page   \n",
       "\n",
       "         converted  intercept  ab_page  \n",
       "user_id                                 \n",
       "834778           0          1        0  \n",
       "928468           0          1        1  \n",
       "822059           1          1        1  \n",
       "711597           0          1        0  \n",
       "710616           0          1        1  "
      ]
     },
     "execution_count": 39,
     "metadata": {},
     "output_type": "execute_result"
    }
   ],
   "source": [
    "df_new.head()"
   ]
  },
  {
   "cell_type": "code",
   "execution_count": 40,
   "metadata": {},
   "outputs": [
    {
     "data": {
      "text/plain": [
       "array(['UK', 'US', 'CA'], dtype=object)"
      ]
     },
     "execution_count": 40,
     "metadata": {},
     "output_type": "execute_result"
    }
   ],
   "source": [
    "df_new['country'].unique()"
   ]
  },
  {
   "cell_type": "code",
   "execution_count": 41,
   "metadata": {},
   "outputs": [
    {
     "data": {
      "text/html": [
       "<div>\n",
       "<style scoped>\n",
       "    .dataframe tbody tr th:only-of-type {\n",
       "        vertical-align: middle;\n",
       "    }\n",
       "\n",
       "    .dataframe tbody tr th {\n",
       "        vertical-align: top;\n",
       "    }\n",
       "\n",
       "    .dataframe thead th {\n",
       "        text-align: right;\n",
       "    }\n",
       "</style>\n",
       "<table border=\"1\" class=\"dataframe\">\n",
       "  <thead>\n",
       "    <tr style=\"text-align: right;\">\n",
       "      <th></th>\n",
       "      <th>country</th>\n",
       "      <th>timestamp</th>\n",
       "      <th>group</th>\n",
       "      <th>landing_page</th>\n",
       "      <th>converted</th>\n",
       "      <th>intercept</th>\n",
       "      <th>ab_page</th>\n",
       "      <th>UK</th>\n",
       "      <th>US</th>\n",
       "      <th>CA</th>\n",
       "    </tr>\n",
       "    <tr>\n",
       "      <th>user_id</th>\n",
       "      <th></th>\n",
       "      <th></th>\n",
       "      <th></th>\n",
       "      <th></th>\n",
       "      <th></th>\n",
       "      <th></th>\n",
       "      <th></th>\n",
       "      <th></th>\n",
       "      <th></th>\n",
       "      <th></th>\n",
       "    </tr>\n",
       "  </thead>\n",
       "  <tbody>\n",
       "    <tr>\n",
       "      <th>834778</th>\n",
       "      <td>UK</td>\n",
       "      <td>2017-01-14 23:08:43.304998</td>\n",
       "      <td>control</td>\n",
       "      <td>old_page</td>\n",
       "      <td>0</td>\n",
       "      <td>1</td>\n",
       "      <td>0</td>\n",
       "      <td>0</td>\n",
       "      <td>1</td>\n",
       "      <td>0</td>\n",
       "    </tr>\n",
       "    <tr>\n",
       "      <th>928468</th>\n",
       "      <td>US</td>\n",
       "      <td>2017-01-23 14:44:16.387854</td>\n",
       "      <td>treatment</td>\n",
       "      <td>new_page</td>\n",
       "      <td>0</td>\n",
       "      <td>1</td>\n",
       "      <td>1</td>\n",
       "      <td>0</td>\n",
       "      <td>0</td>\n",
       "      <td>1</td>\n",
       "    </tr>\n",
       "    <tr>\n",
       "      <th>822059</th>\n",
       "      <td>UK</td>\n",
       "      <td>2017-01-16 14:04:14.719771</td>\n",
       "      <td>treatment</td>\n",
       "      <td>new_page</td>\n",
       "      <td>1</td>\n",
       "      <td>1</td>\n",
       "      <td>1</td>\n",
       "      <td>0</td>\n",
       "      <td>1</td>\n",
       "      <td>0</td>\n",
       "    </tr>\n",
       "    <tr>\n",
       "      <th>711597</th>\n",
       "      <td>UK</td>\n",
       "      <td>2017-01-22 03:14:24.763511</td>\n",
       "      <td>control</td>\n",
       "      <td>old_page</td>\n",
       "      <td>0</td>\n",
       "      <td>1</td>\n",
       "      <td>0</td>\n",
       "      <td>0</td>\n",
       "      <td>1</td>\n",
       "      <td>0</td>\n",
       "    </tr>\n",
       "    <tr>\n",
       "      <th>710616</th>\n",
       "      <td>UK</td>\n",
       "      <td>2017-01-16 13:14:44.000513</td>\n",
       "      <td>treatment</td>\n",
       "      <td>new_page</td>\n",
       "      <td>0</td>\n",
       "      <td>1</td>\n",
       "      <td>1</td>\n",
       "      <td>0</td>\n",
       "      <td>1</td>\n",
       "      <td>0</td>\n",
       "    </tr>\n",
       "  </tbody>\n",
       "</table>\n",
       "</div>"
      ],
      "text/plain": [
       "        country                   timestamp      group landing_page  \\\n",
       "user_id                                                               \n",
       "834778       UK  2017-01-14 23:08:43.304998    control     old_page   \n",
       "928468       US  2017-01-23 14:44:16.387854  treatment     new_page   \n",
       "822059       UK  2017-01-16 14:04:14.719771  treatment     new_page   \n",
       "711597       UK  2017-01-22 03:14:24.763511    control     old_page   \n",
       "710616       UK  2017-01-16 13:14:44.000513  treatment     new_page   \n",
       "\n",
       "         converted  intercept  ab_page  UK  US  CA  \n",
       "user_id                                             \n",
       "834778           0          1        0   0   1   0  \n",
       "928468           0          1        1   0   0   1  \n",
       "822059           1          1        1   0   1   0  \n",
       "711597           0          1        0   0   1   0  \n",
       "710616           0          1        1   0   1   0  "
      ]
     },
     "execution_count": 41,
     "metadata": {},
     "output_type": "execute_result"
    }
   ],
   "source": [
    "### Create the necessary dummy variables\n",
    "df_new[['UK', 'US', 'CA']]=pd.get_dummies(df_new['country'])\n",
    "df_new.head()"
   ]
  },
  {
   "cell_type": "code",
   "execution_count": 42,
   "metadata": {},
   "outputs": [
    {
     "data": {
      "text/html": [
       "<div>\n",
       "<style scoped>\n",
       "    .dataframe tbody tr th:only-of-type {\n",
       "        vertical-align: middle;\n",
       "    }\n",
       "\n",
       "    .dataframe tbody tr th {\n",
       "        vertical-align: top;\n",
       "    }\n",
       "\n",
       "    .dataframe thead th {\n",
       "        text-align: right;\n",
       "    }\n",
       "</style>\n",
       "<table border=\"1\" class=\"dataframe\">\n",
       "  <thead>\n",
       "    <tr style=\"text-align: right;\">\n",
       "      <th></th>\n",
       "      <th>country</th>\n",
       "      <th>timestamp</th>\n",
       "      <th>group</th>\n",
       "      <th>landing_page</th>\n",
       "      <th>converted</th>\n",
       "      <th>intercept</th>\n",
       "      <th>ab_page</th>\n",
       "      <th>UK</th>\n",
       "      <th>US</th>\n",
       "      <th>CA</th>\n",
       "    </tr>\n",
       "    <tr>\n",
       "      <th>user_id</th>\n",
       "      <th></th>\n",
       "      <th></th>\n",
       "      <th></th>\n",
       "      <th></th>\n",
       "      <th></th>\n",
       "      <th></th>\n",
       "      <th></th>\n",
       "      <th></th>\n",
       "      <th></th>\n",
       "      <th></th>\n",
       "    </tr>\n",
       "  </thead>\n",
       "  <tbody>\n",
       "    <tr>\n",
       "      <th>834778</th>\n",
       "      <td>UK</td>\n",
       "      <td>2017-01-14 23:08:43.304998</td>\n",
       "      <td>control</td>\n",
       "      <td>old_page</td>\n",
       "      <td>0</td>\n",
       "      <td>1</td>\n",
       "      <td>0</td>\n",
       "      <td>0</td>\n",
       "      <td>1</td>\n",
       "      <td>0</td>\n",
       "    </tr>\n",
       "    <tr>\n",
       "      <th>928468</th>\n",
       "      <td>US</td>\n",
       "      <td>2017-01-23 14:44:16.387854</td>\n",
       "      <td>treatment</td>\n",
       "      <td>new_page</td>\n",
       "      <td>0</td>\n",
       "      <td>1</td>\n",
       "      <td>1</td>\n",
       "      <td>0</td>\n",
       "      <td>0</td>\n",
       "      <td>1</td>\n",
       "    </tr>\n",
       "    <tr>\n",
       "      <th>822059</th>\n",
       "      <td>UK</td>\n",
       "      <td>2017-01-16 14:04:14.719771</td>\n",
       "      <td>treatment</td>\n",
       "      <td>new_page</td>\n",
       "      <td>1</td>\n",
       "      <td>1</td>\n",
       "      <td>1</td>\n",
       "      <td>0</td>\n",
       "      <td>1</td>\n",
       "      <td>0</td>\n",
       "    </tr>\n",
       "    <tr>\n",
       "      <th>711597</th>\n",
       "      <td>UK</td>\n",
       "      <td>2017-01-22 03:14:24.763511</td>\n",
       "      <td>control</td>\n",
       "      <td>old_page</td>\n",
       "      <td>0</td>\n",
       "      <td>1</td>\n",
       "      <td>0</td>\n",
       "      <td>0</td>\n",
       "      <td>1</td>\n",
       "      <td>0</td>\n",
       "    </tr>\n",
       "    <tr>\n",
       "      <th>710616</th>\n",
       "      <td>UK</td>\n",
       "      <td>2017-01-16 13:14:44.000513</td>\n",
       "      <td>treatment</td>\n",
       "      <td>new_page</td>\n",
       "      <td>0</td>\n",
       "      <td>1</td>\n",
       "      <td>1</td>\n",
       "      <td>0</td>\n",
       "      <td>1</td>\n",
       "      <td>0</td>\n",
       "    </tr>\n",
       "  </tbody>\n",
       "</table>\n",
       "</div>"
      ],
      "text/plain": [
       "        country                   timestamp      group landing_page  \\\n",
       "user_id                                                               \n",
       "834778       UK  2017-01-14 23:08:43.304998    control     old_page   \n",
       "928468       US  2017-01-23 14:44:16.387854  treatment     new_page   \n",
       "822059       UK  2017-01-16 14:04:14.719771  treatment     new_page   \n",
       "711597       UK  2017-01-22 03:14:24.763511    control     old_page   \n",
       "710616       UK  2017-01-16 13:14:44.000513  treatment     new_page   \n",
       "\n",
       "         converted  intercept  ab_page  UK  US  CA  \n",
       "user_id                                             \n",
       "834778           0          1        0   0   1   0  \n",
       "928468           0          1        1   0   0   1  \n",
       "822059           1          1        1   0   1   0  \n",
       "711597           0          1        0   0   1   0  \n",
       "710616           0          1        1   0   1   0  "
      ]
     },
     "execution_count": 42,
     "metadata": {},
     "output_type": "execute_result"
    }
   ],
   "source": [
    "df_new.loc[:,'intercept']=1\n",
    "df_new.head()"
   ]
  },
  {
   "cell_type": "code",
   "execution_count": 43,
   "metadata": {},
   "outputs": [
    {
     "data": {
      "text/html": [
       "<div>\n",
       "<style scoped>\n",
       "    .dataframe tbody tr th:only-of-type {\n",
       "        vertical-align: middle;\n",
       "    }\n",
       "\n",
       "    .dataframe tbody tr th {\n",
       "        vertical-align: top;\n",
       "    }\n",
       "\n",
       "    .dataframe thead th {\n",
       "        text-align: right;\n",
       "    }\n",
       "</style>\n",
       "<table border=\"1\" class=\"dataframe\">\n",
       "  <thead>\n",
       "    <tr style=\"text-align: right;\">\n",
       "      <th></th>\n",
       "      <th>country</th>\n",
       "      <th>timestamp</th>\n",
       "      <th>group</th>\n",
       "      <th>landing_page</th>\n",
       "      <th>converted</th>\n",
       "      <th>intercept</th>\n",
       "      <th>ab_page</th>\n",
       "      <th>UK</th>\n",
       "      <th>US</th>\n",
       "      <th>CA</th>\n",
       "    </tr>\n",
       "    <tr>\n",
       "      <th>user_id</th>\n",
       "      <th></th>\n",
       "      <th></th>\n",
       "      <th></th>\n",
       "      <th></th>\n",
       "      <th></th>\n",
       "      <th></th>\n",
       "      <th></th>\n",
       "      <th></th>\n",
       "      <th></th>\n",
       "      <th></th>\n",
       "    </tr>\n",
       "  </thead>\n",
       "  <tbody>\n",
       "    <tr>\n",
       "      <th>834778</th>\n",
       "      <td>UK</td>\n",
       "      <td>2017-01-14 23:08:43.304998</td>\n",
       "      <td>control</td>\n",
       "      <td>old_page</td>\n",
       "      <td>0</td>\n",
       "      <td>1</td>\n",
       "      <td>0</td>\n",
       "      <td>0</td>\n",
       "      <td>1</td>\n",
       "      <td>0</td>\n",
       "    </tr>\n",
       "    <tr>\n",
       "      <th>928468</th>\n",
       "      <td>US</td>\n",
       "      <td>2017-01-23 14:44:16.387854</td>\n",
       "      <td>treatment</td>\n",
       "      <td>new_page</td>\n",
       "      <td>0</td>\n",
       "      <td>1</td>\n",
       "      <td>1</td>\n",
       "      <td>0</td>\n",
       "      <td>0</td>\n",
       "      <td>1</td>\n",
       "    </tr>\n",
       "    <tr>\n",
       "      <th>822059</th>\n",
       "      <td>UK</td>\n",
       "      <td>2017-01-16 14:04:14.719771</td>\n",
       "      <td>treatment</td>\n",
       "      <td>new_page</td>\n",
       "      <td>1</td>\n",
       "      <td>1</td>\n",
       "      <td>1</td>\n",
       "      <td>0</td>\n",
       "      <td>1</td>\n",
       "      <td>0</td>\n",
       "    </tr>\n",
       "    <tr>\n",
       "      <th>711597</th>\n",
       "      <td>UK</td>\n",
       "      <td>2017-01-22 03:14:24.763511</td>\n",
       "      <td>control</td>\n",
       "      <td>old_page</td>\n",
       "      <td>0</td>\n",
       "      <td>1</td>\n",
       "      <td>0</td>\n",
       "      <td>0</td>\n",
       "      <td>1</td>\n",
       "      <td>0</td>\n",
       "    </tr>\n",
       "    <tr>\n",
       "      <th>710616</th>\n",
       "      <td>UK</td>\n",
       "      <td>2017-01-16 13:14:44.000513</td>\n",
       "      <td>treatment</td>\n",
       "      <td>new_page</td>\n",
       "      <td>0</td>\n",
       "      <td>1</td>\n",
       "      <td>1</td>\n",
       "      <td>0</td>\n",
       "      <td>1</td>\n",
       "      <td>0</td>\n",
       "    </tr>\n",
       "  </tbody>\n",
       "</table>\n",
       "</div>"
      ],
      "text/plain": [
       "        country                   timestamp      group landing_page  \\\n",
       "user_id                                                               \n",
       "834778       UK  2017-01-14 23:08:43.304998    control     old_page   \n",
       "928468       US  2017-01-23 14:44:16.387854  treatment     new_page   \n",
       "822059       UK  2017-01-16 14:04:14.719771  treatment     new_page   \n",
       "711597       UK  2017-01-22 03:14:24.763511    control     old_page   \n",
       "710616       UK  2017-01-16 13:14:44.000513  treatment     new_page   \n",
       "\n",
       "         converted  intercept  ab_page  UK  US  CA  \n",
       "user_id                                             \n",
       "834778           0          1        0   0   1   0  \n",
       "928468           0          1        1   0   0   1  \n",
       "822059           1          1        1   0   1   0  \n",
       "711597           0          1        0   0   1   0  \n",
       "710616           0          1        1   0   1   0  "
      ]
     },
     "execution_count": 43,
     "metadata": {},
     "output_type": "execute_result"
    }
   ],
   "source": [
    "df_new['ab_page']=(df_new['group']=='treatment').astype('int')\n",
    "df_new.head()"
   ]
  },
  {
   "cell_type": "code",
   "execution_count": 44,
   "metadata": {},
   "outputs": [
    {
     "name": "stdout",
     "output_type": "stream",
     "text": [
      "Optimization terminated successfully.\n",
      "         Current function value: 0.366116\n",
      "         Iterations 6\n"
     ]
    }
   ],
   "source": [
    "log_mod_country = sm.Logit(df_new['converted'], df_new[['intercept','US', 'CA']])\n",
    "results_country=log_mod_country.fit()"
   ]
  },
  {
   "cell_type": "code",
   "execution_count": 45,
   "metadata": {},
   "outputs": [
    {
     "data": {
      "text/html": [
       "<table class=\"simpletable\">\n",
       "<caption>Logit Regression Results</caption>\n",
       "<tr>\n",
       "  <th>Dep. Variable:</th>       <td>converted</td>    <th>  No. Observations:  </th>   <td>290584</td>   \n",
       "</tr>\n",
       "<tr>\n",
       "  <th>Model:</th>                 <td>Logit</td>      <th>  Df Residuals:      </th>   <td>290581</td>   \n",
       "</tr>\n",
       "<tr>\n",
       "  <th>Method:</th>                 <td>MLE</td>       <th>  Df Model:          </th>   <td>     2</td>   \n",
       "</tr>\n",
       "<tr>\n",
       "  <th>Date:</th>            <td>Tue, 26 Oct 2021</td> <th>  Pseudo R-squ.:     </th>  <td>1.521e-05</td> \n",
       "</tr>\n",
       "<tr>\n",
       "  <th>Time:</th>                <td>00:17:11</td>     <th>  Log-Likelihood:    </th> <td>-1.0639e+05</td>\n",
       "</tr>\n",
       "<tr>\n",
       "  <th>converged:</th>             <td>True</td>       <th>  LL-Null:           </th> <td>-1.0639e+05</td>\n",
       "</tr>\n",
       "<tr>\n",
       "  <th>Covariance Type:</th>     <td>nonrobust</td>    <th>  LLR p-value:       </th>   <td>0.1984</td>   \n",
       "</tr>\n",
       "</table>\n",
       "<table class=\"simpletable\">\n",
       "<tr>\n",
       "      <td></td>         <th>coef</th>     <th>std err</th>      <th>z</th>      <th>P>|z|</th>  <th>[0.025</th>    <th>0.975]</th>  \n",
       "</tr>\n",
       "<tr>\n",
       "  <th>intercept</th> <td>   -2.0375</td> <td>    0.026</td> <td>  -78.364</td> <td> 0.000</td> <td>   -2.088</td> <td>   -1.987</td>\n",
       "</tr>\n",
       "<tr>\n",
       "  <th>US</th>        <td>    0.0507</td> <td>    0.028</td> <td>    1.786</td> <td> 0.074</td> <td>   -0.005</td> <td>    0.106</td>\n",
       "</tr>\n",
       "<tr>\n",
       "  <th>CA</th>        <td>    0.0408</td> <td>    0.027</td> <td>    1.518</td> <td> 0.129</td> <td>   -0.012</td> <td>    0.093</td>\n",
       "</tr>\n",
       "</table>"
      ],
      "text/plain": [
       "<class 'statsmodels.iolib.summary.Summary'>\n",
       "\"\"\"\n",
       "                           Logit Regression Results                           \n",
       "==============================================================================\n",
       "Dep. Variable:              converted   No. Observations:               290584\n",
       "Model:                          Logit   Df Residuals:                   290581\n",
       "Method:                           MLE   Df Model:                            2\n",
       "Date:                Tue, 26 Oct 2021   Pseudo R-squ.:               1.521e-05\n",
       "Time:                        00:17:11   Log-Likelihood:            -1.0639e+05\n",
       "converged:                       True   LL-Null:                   -1.0639e+05\n",
       "Covariance Type:            nonrobust   LLR p-value:                    0.1984\n",
       "==============================================================================\n",
       "                 coef    std err          z      P>|z|      [0.025      0.975]\n",
       "------------------------------------------------------------------------------\n",
       "intercept     -2.0375      0.026    -78.364      0.000      -2.088      -1.987\n",
       "US             0.0507      0.028      1.786      0.074      -0.005       0.106\n",
       "CA             0.0408      0.027      1.518      0.129      -0.012       0.093\n",
       "==============================================================================\n",
       "\"\"\""
      ]
     },
     "execution_count": 45,
     "metadata": {},
     "output_type": "execute_result"
    }
   ],
   "source": [
    "results_country.summary()"
   ]
  },
  {
   "cell_type": "markdown",
   "metadata": {},
   "source": [
    "h. Though you have now looked at the individual factors of country and page on conversion, we would now like to look at an interaction between page and country to see if there significant effects on conversion.  Create the necessary additional columns, and fit the new model.  \n",
    "\n",
    "Provide the summary results, and your conclusions based on the results."
   ]
  },
  {
   "cell_type": "code",
   "execution_count": 46,
   "metadata": {},
   "outputs": [
    {
     "name": "stdout",
     "output_type": "stream",
     "text": [
      "Optimization terminated successfully.\n",
      "         Current function value: 0.366113\n",
      "         Iterations 6\n"
     ]
    },
    {
     "data": {
      "text/html": [
       "<table class=\"simpletable\">\n",
       "<caption>Logit Regression Results</caption>\n",
       "<tr>\n",
       "  <th>Dep. Variable:</th>       <td>converted</td>    <th>  No. Observations:  </th>   <td>290584</td>   \n",
       "</tr>\n",
       "<tr>\n",
       "  <th>Model:</th>                 <td>Logit</td>      <th>  Df Residuals:      </th>   <td>290580</td>   \n",
       "</tr>\n",
       "<tr>\n",
       "  <th>Method:</th>                 <td>MLE</td>       <th>  Df Model:          </th>   <td>     3</td>   \n",
       "</tr>\n",
       "<tr>\n",
       "  <th>Date:</th>            <td>Tue, 26 Oct 2021</td> <th>  Pseudo R-squ.:     </th>  <td>2.323e-05</td> \n",
       "</tr>\n",
       "<tr>\n",
       "  <th>Time:</th>                <td>00:17:12</td>     <th>  Log-Likelihood:    </th> <td>-1.0639e+05</td>\n",
       "</tr>\n",
       "<tr>\n",
       "  <th>converged:</th>             <td>True</td>       <th>  LL-Null:           </th> <td>-1.0639e+05</td>\n",
       "</tr>\n",
       "<tr>\n",
       "  <th>Covariance Type:</th>     <td>nonrobust</td>    <th>  LLR p-value:       </th>   <td>0.1760</td>   \n",
       "</tr>\n",
       "</table>\n",
       "<table class=\"simpletable\">\n",
       "<tr>\n",
       "      <td></td>         <th>coef</th>     <th>std err</th>      <th>z</th>      <th>P>|z|</th>  <th>[0.025</th>    <th>0.975]</th>  \n",
       "</tr>\n",
       "<tr>\n",
       "  <th>intercept</th> <td>   -2.0300</td> <td>    0.027</td> <td>  -76.249</td> <td> 0.000</td> <td>   -2.082</td> <td>   -1.978</td>\n",
       "</tr>\n",
       "<tr>\n",
       "  <th>ab_page</th>   <td>   -0.0149</td> <td>    0.011</td> <td>   -1.307</td> <td> 0.191</td> <td>   -0.037</td> <td>    0.007</td>\n",
       "</tr>\n",
       "<tr>\n",
       "  <th>US</th>        <td>    0.0506</td> <td>    0.028</td> <td>    1.784</td> <td> 0.074</td> <td>   -0.005</td> <td>    0.106</td>\n",
       "</tr>\n",
       "<tr>\n",
       "  <th>CA</th>        <td>    0.0408</td> <td>    0.027</td> <td>    1.516</td> <td> 0.130</td> <td>   -0.012</td> <td>    0.093</td>\n",
       "</tr>\n",
       "</table>"
      ],
      "text/plain": [
       "<class 'statsmodels.iolib.summary.Summary'>\n",
       "\"\"\"\n",
       "                           Logit Regression Results                           \n",
       "==============================================================================\n",
       "Dep. Variable:              converted   No. Observations:               290584\n",
       "Model:                          Logit   Df Residuals:                   290580\n",
       "Method:                           MLE   Df Model:                            3\n",
       "Date:                Tue, 26 Oct 2021   Pseudo R-squ.:               2.323e-05\n",
       "Time:                        00:17:12   Log-Likelihood:            -1.0639e+05\n",
       "converged:                       True   LL-Null:                   -1.0639e+05\n",
       "Covariance Type:            nonrobust   LLR p-value:                    0.1760\n",
       "==============================================================================\n",
       "                 coef    std err          z      P>|z|      [0.025      0.975]\n",
       "------------------------------------------------------------------------------\n",
       "intercept     -2.0300      0.027    -76.249      0.000      -2.082      -1.978\n",
       "ab_page       -0.0149      0.011     -1.307      0.191      -0.037       0.007\n",
       "US             0.0506      0.028      1.784      0.074      -0.005       0.106\n",
       "CA             0.0408      0.027      1.516      0.130      -0.012       0.093\n",
       "==============================================================================\n",
       "\"\"\""
      ]
     },
     "execution_count": 46,
     "metadata": {},
     "output_type": "execute_result"
    }
   ],
   "source": [
    "### Fit Your Linear Model And Obtain the Results\n",
    "log_mod_all = sm.Logit(df_new['converted'], df_new[['intercept','ab_page','US', 'CA']])\n",
    "results_all=log_mod_all.fit()\n",
    "results_all.summary()"
   ]
  },
  {
   "cell_type": "markdown",
   "metadata": {},
   "source": [
    "<a id='conclusions'></a>\n",
    "## Conclusions\n",
    "\n",
    "the two variables did not seem to have a strong interaction since the coefficients for each vriable in the first two models were the same as in the third model. US seemed to have the most statistical significance as it had the lowest p-value.\n",
    "\n",
    "users who viewed the new page were 1.16 times more likely to convert.\n",
    "users from US and Canada were 1.66 times more likely to convert.\n",
    "\n",
    "### Gather Submission Materials\n",
    "\n",
    "Once you are satisfied with the status of your Notebook, you should save it in a format that will make it easy for others to read. You can use the __File -> Download as -> HTML (.html)__ menu to save your notebook as an .html file. If you are working locally and get an error about \"No module name\", then open a terminal and try installing the missing module using `pip install <module_name>` (don't include the \"<\" or \">\" or any words following a period in the module name).\n",
    "\n",
    "You will submit both your original Notebook and an HTML or PDF copy of the Notebook for review. There is no need for you to include any data files with your submission. If you made reference to other websites, books, and other resources to help you in solving tasks in the project, make sure that you document them. It is recommended that you either add a \"Resources\" section in a Markdown cell at the end of the Notebook report, or you can include a `readme.txt` file documenting your sources.\n",
    "\n",
    "### Submit the Project\n",
    "\n",
    "When you're ready, click on the \"Submit Project\" button to go to the project submission page. You can submit your files as a .zip archive or you can link to a GitHub repository containing your project files. If you go with GitHub, note that your submission will be a snapshot of the linked repository at time of submission. It is recommended that you keep each project in a separate repository to avoid any potential confusion: if a reviewer gets multiple folders representing multiple projects, there might be confusion regarding what project is to be evaluated.\n",
    "\n",
    "It can take us up to a week to grade the project, but in most cases it is much faster. You will get an email once your submission has been reviewed. If you are having any problems submitting your project or wish to check on the status of your submission, please email us at dataanalyst-project@udacity.com. In the meantime, you should feel free to continue on with your learning journey by beginning the next module in the program."
   ]
  },
  {
   "cell_type": "markdown",
   "metadata": {
    "collapsed": true
   },
   "source": [
    "#### Resources:\n",
    "- https://www.pythonfordatascience.org/logistic-regression-python/\n",
    "- https://www.statsmodels.org/stable/generated/statsmodels.stats.proportion.proportions_ztest.html\n",
    "- https://docs.w3cub.com/statsmodels/generated/statsmodels.stats.proportion.proportions_ztest.html\n",
    "- https://www.geeksforgeeks.org/z-test/\n",
    "- https://www.statsmodels.org/stable/generated/statsmodels.stats.weightstats.ztest.html\n",
    "- https://pandas.pydata.org/pandas-docs/stable/reference/api/pandas.DataFrame.groupby.html"
   ]
  }
 ],
 "metadata": {
  "kernelspec": {
   "display_name": "Python 3",
   "language": "python",
   "name": "python3"
  },
  "language_info": {
   "codemirror_mode": {
    "name": "ipython",
    "version": 3
   },
   "file_extension": ".py",
   "mimetype": "text/x-python",
   "name": "python",
   "nbconvert_exporter": "python",
   "pygments_lexer": "ipython3",
   "version": "3.8.5"
  }
 },
 "nbformat": 4,
 "nbformat_minor": 2
}
